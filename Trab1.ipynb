{
 "cells": [
  {
   "attachments": {},
   "cell_type": "markdown",
   "id": "0fa67557",
   "metadata": {},
   "source": [
    "Nomes: <br>\n",
    "Aimê Gomes da Nobrega (Nro USP 11882429) <br>\n",
    "Adriana Akemi Yamaguti (Nro USP 11915623)"
   ]
  },
  {
   "attachments": {},
   "cell_type": "markdown",
   "id": "58c794da",
   "metadata": {},
   "source": [
    "# Projeto 0 de Mineração de Dados"
   ]
  },
  {
   "cell_type": "markdown",
   "id": "308ba641",
   "metadata": {},
   "source": [
    "# Generando valores de uma lista de enteros positivos entre 1 e 10"
   ]
  },
  {
   "cell_type": "code",
   "execution_count": null,
   "id": "4e2fac55",
   "metadata": {},
   "outputs": [
    {
     "name": "stdout",
     "output_type": "stream",
     "text": [
      "x é [1, 2, 3, 4, 5, 6, 7, 8, 9, 10]\n"
     ]
    }
   ],
   "source": [
    "x = list(range(1,11))\n",
    "print(\"x é\", x) "
   ]
  },
  {
   "cell_type": "markdown",
   "id": "186421af",
   "metadata": {},
   "source": [
    "O algoritmo acima cria uma variável ```x``` que armazena uma lista de números inteiros positivos de 1 a 10. A função range( ) retorna uma sequência de números, no qual o primeiro argumento indica que começa no 1 e vai até o valor não incluso que é especificado no segundo argumento (10). Além disso, por default, a função incrementa de um em um."
   ]
  },
  {
   "cell_type": "markdown",
   "id": "37ee4f8d",
   "metadata": {},
   "source": [
    "# Estatísticas básicas"
   ]
  },
  {
   "cell_type": "code",
   "execution_count": null,
   "id": "9fcafd07",
   "metadata": {},
   "outputs": [
    {
     "name": "stdout",
     "output_type": "stream",
     "text": [
      "média 5.5\n",
      "desvio padrão 3.0276503540974917\n"
     ]
    }
   ],
   "source": [
    "# Importando o modulo estatístico\n",
    "import statistics\n",
    "\n",
    "a=statistics.mean(x)\n",
    "print(\"média\", a)\n",
    "b=statistics.stdev(x)\n",
    "print(\"desvio padrão\", b)"
   ]
  },
  {
   "cell_type": "markdown",
   "id": "d5654195",
   "metadata": {},
   "source": [
    "Foi realizada a importação da biblioteca ```statistics``` do python que possui diversas funções para cálculos estatísticos. Na variável ```a```, armazenamos o cálculo da média da variável ```x```. Já na variável ```b```, foi armazenada o cálculo do desvio padrão de ```x```."
   ]
  },
  {
   "cell_type": "markdown",
   "id": "43eaf1f9",
   "metadata": {},
   "source": [
    "# Generando valores aleatórios de uma nova variável em função da anterior com erros normais"
   ]
  },
  {
   "cell_type": "code",
   "execution_count": null,
   "id": "2a4beada",
   "metadata": {},
   "outputs": [
    {
     "name": "stdout",
     "output_type": "stream",
     "text": [
      "y é [ 1.05825987  0.21092008  2.32398246  4.22764776  6.14430916  6.44574581\n",
      "  7.57258387  8.71202984  9.0907417  10.8149467 ]\n"
     ]
    }
   ],
   "source": [
    "import numpy as np\n",
    "import random\n",
    "random.seed(11882429)\n",
    "y=x+np.random.normal(0, 1, 10)\n",
    "print(\"y é\", y)"
   ]
  },
  {
   "attachments": {},
   "cell_type": "markdown",
   "id": "aecace44",
   "metadata": {},
   "source": [
    "Este algoritmo utiliza as bibliotecas ```numpy``` e ```random```. Vale ressaltar que ```numpy``` é renomeada como ```np```, pois esta convenção fo adotada pela comunidade Python e ajuda qualquer pessoa entender o código facilmente.\n",
    "\n",
    "Foi utilizado um gerador de números aleatórios através da ```seed(11882429)``` que serve para fins de reprodutibilidade. Em seguida, temos a função ```np.random.normal(0, 1, 10)``` que gera uma distribuição normal com média 0 e desvio padrão 1 e os valores são somados com a variável ```x```. Por fim, esse cálculo é armazenado em uma lista de valores ```y```, que é semelhante à lista de valores em ```x```, mas com uma variação aleatória adicionada."
   ]
  },
  {
   "cell_type": "markdown",
   "id": "0498b612",
   "metadata": {},
   "source": [
    "# Ploteando os dados para ver relacionamento entre x e y"
   ]
  },
  {
   "cell_type": "code",
   "execution_count": null,
   "id": "c364b83b",
   "metadata": {},
   "outputs": [
    {
     "data": {
      "text/plain": [
       "<matplotlib.collections.PathCollection at 0x163ee0ea850>"
      ]
     },
     "execution_count": 4,
     "metadata": {},
     "output_type": "execute_result"
    },
    {
     "data": {
      "image/png": "[encoded data removed]",
      "text/plain": [
       "<Figure size 432x288 with 1 Axes>"
      ]
     },
     "metadata": {
      "needs_background": "light"
     },
     "output_type": "display_data"
    }
   ],
   "source": [
    "from matplotlib import pyplot\n",
    "random.seed(11882429)\n",
    "pyplot.scatter(x, y)"
   ]
  },
  {
   "attachments": {},
   "cell_type": "markdown",
   "id": "23352858",
   "metadata": {},
   "source": [
    "A biblioteca ```matplotlib``` serve para a visualização gráfica. A função scatter( ) é utilizada para criar gráfico de dispersão. Neste código, informamos que o eixo x é representado pelos valores da variável ```x``` e o eixo y, a variável ```y```.\n",
    "\n",
    "O gráfico de dispersão mostra uma relação positiva, ou seja, x e y são proporcionais e na medida que x aumenta, y também aumenta. No entanto, como o gráfico é baseado em valores gerados aleatoriamente, os resultados podem variar de acordo com a semente usada para gerar os números aleatórios.\n",
    "\n",
    "Em resumo, o gráfico de dispersão é uma ferramenta útil para visualizar a relação entre duas variáveis e pode ajudar a identificar padrões ou tendências nos dados."
   ]
  },
  {
   "cell_type": "markdown",
   "id": "3a73ce1d",
   "metadata": {},
   "source": [
    "# Correlação entre x e y"
   ]
  },
  {
   "cell_type": "code",
   "execution_count": null,
   "id": "64d878d0",
   "metadata": {},
   "outputs": [
    {
     "name": "stdout",
     "output_type": "stream",
     "text": [
      "correlação e valor p: (0.981665267523359, 4.836029191483277e-07)\n"
     ]
    }
   ],
   "source": [
    "import scipy.stats\n",
    "random.seed(11882429)\n",
    "c=scipy.stats.pearsonr(x, y) \n",
    "print(\"correlação e valor p:\", c)"
   ]
  },
  {
   "attachments": {},
   "cell_type": "markdown",
   "id": "afacc31b",
   "metadata": {},
   "source": [
    "```scipy.stats``` é uma das bibliotecas mais usadas na estatística. Com ela, podemos calcular a função de correlação de Pearson e o valor p. O cálculo da correlação é dado por:\n",
    "\n",
    "$$r_{X,Y} = \\frac{(\\sum_{i=1}^{N} X_i * Y_i) - n \\bar{X} \\bar{Y}}{(n-1) * S_X * S_Y}$$\n",
    "\n",
    "$$r_{X,Y} = 0.9872765420113409$$\n",
    "\n",
    "A correlação de Pearson é uma medida estatística que mede a força da relação linear entre duas variáveis. Uma correlação de Pearson de 0.98 indica uma forte correlação positiva entre x e y. Isso significa que à medida que os valores de \"x\" aumentam, os valores de \"y\" também aumentam consistentemente."
   ]
  },
  {
   "cell_type": "markdown",
   "id": "3b8ab2c3",
   "metadata": {},
   "source": [
    "# Teste de hipóteses"
   ]
  },
  {
   "cell_type": "markdown",
   "id": "fda84f4c",
   "metadata": {},
   "source": [
    "Sejam:\n",
    "\n",
    "$$H_0: r = 0$$\n",
    "\n",
    "$$H_1: r \\not = 0$$\n",
    "\n",
    "Temos: $r = 0.9872765420113409; n = 10$ e $\\alpha = 5\\%$.\n",
    "\n",
    "Com base na tabela de valores críticos de correlação de Pearson, temos $r_{\\text{crítico}} = 0,632$. Além disso, $\\text{valor p} = 1.1291517577711655e-07 < \\alpha = 0,05\\%$. Dessa forma, rejeita $H_0$ ao nível de significância de 0,05% e dizemos que X e Y estão correlacionados."
   ]
  },
  {
   "attachments": {},
   "cell_type": "markdown",
   "id": "45b143c0",
   "metadata": {},
   "source": [
    "## Conclusão\n",
    "\n",
    "Com base na análise realizada, podemos concluir que há uma forte correlação positiva (correlação de Pearson de 0,98) entre as variáveis \"x\" e \"y\". A forte correlação pode ser explicada pelo fato de que \"y\" foi gerado a partir de \"x\" adicionando um erro aleatório que segue uma distribuição normal padrão. Esse processo de adicionar um erro normal aleatório é comumente usado para simular dados em experimentos e estudos."
   ]
  }
 ],
 "metadata": {
  "hide_input": false,
  "kernelspec": {
   "display_name": "base",
   "language": "python",
   "name": "python3"
  },
  "language_info": {
   "codemirror_mode": {
    "name": "ipython",
    "version": 3
   },
   "file_extension": ".py",
   "mimetype": "text/x-python",
   "name": "python",
   "nbconvert_exporter": "python",
   "pygments_lexer": "ipython3",
   "version": "3.9.12 (main, Apr  4 2022, 05:22:27) [MSC v.1916 64 bit (AMD64)]"
  },
  "toc": {
   "base_numbering": 1,
   "nav_menu": {},
   "number_sections": true,
   "sideBar": true,
   "skip_h1_title": false,
   "title_cell": "Table of Contents",
   "title_sidebar": "Contents",
   "toc_cell": false,
   "toc_position": {},
   "toc_section_display": true,
   "toc_window_display": false
  },
  "vscode": {
   "interpreter": {
    "hash": "dc03a7831a4ca639152f2ce2d6b08e3ec2bc12a2c450a67b8225f0aaa69791b3"
   }
  }
 },
 "nbformat": 4,
 "nbformat_minor": 5
}
