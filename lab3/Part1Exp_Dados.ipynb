{
 "cells": [
  {
   "cell_type": "markdown",
   "metadata": {
    "id": "HaabIE4ETRhY"
   },
   "source": [
    "# Parte1 01 Exploração de Dados\n",
    "\n",
    "Apresentamos umas primeiras analises exploratorias. Acrescente suas respostas e codigos adicionais solicitados.\n"
   ]
  },
  {
   "cell_type": "markdown",
   "metadata": {
    "id": "HaabIE4ETRhY"
   },
   "source": [
    "## 1. Dados unidimensionais\n",
    " \n",
    "Suponha dois conjuntos de dados, que representam as notas finais em uma dada disciplina de duas salas com 100 alunos. Os dados foram armazenados nos arquivos \"notas_salas01.txt\" e \"notas_salas02.txt\". As Notas variam entre 0 a 100.\n",
    "\n",
    "Imagine que uma pessoa deseje comparar o desempenho das salas de aula. Considera-se que, **quanto mais alunos foram aprovados, melhor o desempenho da sala**. Suponha que para ser aprovado, um aluno deve ter nota maior que 50. \n",
    "\n",
    "Como medida inicial de desempenho, essa pessoa calculou a média dos dados através do código abaixo:"
   ]
  },
  {
   "cell_type": "code",
   "execution_count": 1,
   "metadata": {
    "colab": {
     "base_uri": "https://localhost:8080/",
     "height": 415
    },
    "executionInfo": {
     "elapsed": 296,
     "status": "error",
     "timestamp": 1647732413348,
     "user": {
      "displayName": "Jorge Luis Bazán Guzmán",
      "photoUrl": "https://lh3.googleusercontent.com/a/default-user=s64",
      "userId": "00803333973508911352"
     },
     "user_tz": 180
    },
    "id": "9p4v0FJRMUW_",
    "outputId": "66c51b01-f16d-4a7f-9784-b05302c25f9e"
   },
   "outputs": [
    {
     "name": "stdout",
     "output_type": "stream",
     "text": [
      "--- Sala: 1 ---\n",
      "Média: 60.184709\n",
      "--- Sala: 2 ---\n",
      "Média: 55.184195\n"
     ]
    }
   ],
   "source": [
    "import numpy as np\n",
    "import pandas as pd\n",
    "\n",
    "salas = []\n",
    "salas.append(np.loadtxt(\"notas_sala01.txt\"))\n",
    "salas.append(np.loadtxt(\"notas_sala02.txt\"))\n",
    "\n",
    "for i in range(0,2):\n",
    "    print(\"--- Sala: %d ---\" % (i+1))\n",
    "    print(\"Média: %f\" % np.mean(salas[i]))        "
   ]
  },
  {
   "cell_type": "markdown",
   "metadata": {
    "id": "EjMiZQwCPEm5"
   },
   "source": [
    "Com base na média, a pessoa concluiu que a sala 1 obteve um melhor desempenho que a sala 2. \n",
    "\n",
    "### Questão 01. \n",
    "Demonstre e explique o porquê dessa conclusão estar equivocada.\n",
    "   - Dica: Transforme as estruturas `salas[0]` e `salas[1]` em estruturas do tipo `DataFrame` da biblioteca **pandas** e utilize as funções de histograma e/ou boxplot. Adicionalmente acrescente outras medidas descritivas das notas de cada sala e comente na sua resposta."
   ]
  },
  {
   "cell_type": "code",
   "execution_count": 2,
   "metadata": {
    "colab": {
     "base_uri": "https://localhost:8080/",
     "height": 245
    },
    "executionInfo": {
     "elapsed": 309,
     "status": "error",
     "timestamp": 1647731815371,
     "user": {
      "displayName": "Jorge Luis Bazán Guzmán",
      "photoUrl": "https://lh3.googleusercontent.com/a/default-user=s64",
      "userId": "00803333973508911352"
     },
     "user_tz": 180
    },
    "id": "unbEq2aNMeIJ",
    "outputId": "ee44c719-6fd1-496b-ca6e-399ff35c2162"
   },
   "outputs": [
    {
     "data": {
      "text/plain": [
       "<AxesSubplot:>"
      ]
     },
     "execution_count": 2,
     "metadata": {},
     "output_type": "execute_result"
    },
    {
     "data": {
      "image/png": "[encoded data removed]",
      "text/plain": [
       "<Figure size 432x288 with 4 Axes>"
      ]
     },
     "metadata": {
      "needs_background": "light"
     },
     "output_type": "display_data"
    }
   ],
   "source": [
    "import matplotlib.pyplot as plt\n",
    "sala1 = pd.DataFrame(salas[0])\n",
    "sala2 = pd.DataFrame(salas[1])\n",
    "fig, axes = plt.subplots(2, 2)\n",
    "hist1 = sala1.hist(bins = 10, ax=axes[0,0])\n",
    "hist2 = sala2.hist(bins = 10, ax=axes[0,1])\n",
    "plt.suptitle('Histogramas e Boxplots', x=0.5, y=1.05, ha='center', fontsize='xx-large')\n",
    "hist1 \n",
    "hist2\n",
    "box1 = sala1.boxplot(ax=axes[1,0])\n",
    "box2 = sala2.boxplot(ax=axes[1,1])\n",
    "box1\n",
    "box2"
   ]
  },
  {
   "cell_type": "markdown",
   "metadata": {},
   "source": [
    "RESPOSTA:"
   ]
  },
  {
   "cell_type": "markdown",
   "metadata": {
    "id": "JZWmSWQkc213"
   },
   "source": [
    "### Questão 02.\n",
    "Calcule o número de aprovados em cada uma das salas. Isto é os que obtiveram notas superiores a 50. Conclua então qual sala têm o melhor desempenho.\n",
    "- Dica: Use a função `argwhere` da biblioteca **numpy**."
   ]
  },
  {
   "cell_type": "code",
   "execution_count": 4,
   "metadata": {
    "colab": {
     "base_uri": "https://localhost:8080/",
     "height": 51
    },
    "executionInfo": {
     "elapsed": 833,
     "status": "ok",
     "timestamp": 1589411703848,
     "user": {
      "displayName": "Gabriel Gomes",
      "photoUrl": "https://lh3.googleusercontent.com/a-/AOh14GhN3oEuh5H99-Sz7-M67KJul80OH24xRrBFw_3E=s64",
      "userId": "15453446661464234627"
     },
     "user_tz": 180
    },
    "id": "H3bTA1hEMiB0",
    "outputId": "3e2ae343-79a8-4345-eb27-d431627931c5"
   },
   "outputs": [
    {
     "name": "stdout",
     "output_type": "stream",
     "text": [
      "A sala 1 tem 68 aprovados\n",
      "A sala 2 tem 90 aprovados\n"
     ]
    }
   ],
   "source": [
    "print(\"A sala 1 tem %d aprovados\" % len(np.argwhere(np.array(sala1)>50)))\n",
    "print(\"A sala 2 tem %d aprovados\" % len(np.argwhere(np.array(sala2)>50)))"
   ]
  },
  {
   "cell_type": "markdown",
   "metadata": {},
   "source": [
    "RESPOSTA:"
   ]
  },
  {
   "cell_type": "markdown",
   "metadata": {
    "id": "eKwZoSVU2VcP"
   },
   "source": [
    "## 2. Dados multidimensionais\n",
    "\n",
    "Considere o conjunto Iris, disponível no arquivo `iris.data` na pasta.  Ele contém 150 observações sobre 4 características medidas em 3 tipos de flores. \n",
    "\n",
    "O trecho de código abaixo carrega o conjunto, armazena-o na variável `iris` e exibe seu conteúdo.\n",
    "\n"
   ]
  },
  {
   "cell_type": "code",
   "execution_count": 5,
   "metadata": {
    "colab": {
     "base_uri": "https://localhost:8080/",
     "height": 419
    },
    "executionInfo": {
     "elapsed": 1322,
     "status": "ok",
     "timestamp": 1589411836298,
     "user": {
      "displayName": "Gabriel Gomes",
      "photoUrl": "https://lh3.googleusercontent.com/a-/AOh14GhN3oEuh5H99-Sz7-M67KJul80OH24xRrBFw_3E=s64",
      "userId": "15453446661464234627"
     },
     "user_tz": 180
    },
    "id": "yma46nUyUUpS",
    "outputId": "779575cc-7096-49ef-9efd-9fe33644cfd3"
   },
   "outputs": [
    {
     "data": {
      "text/html": [
       "<div>\n",
       "<style scoped>\n",
       "    .dataframe tbody tr th:only-of-type {\n",
       "        vertical-align: middle;\n",
       "    }\n",
       "\n",
       "    .dataframe tbody tr th {\n",
       "        vertical-align: top;\n",
       "    }\n",
       "\n",
       "    .dataframe thead th {\n",
       "        text-align: right;\n",
       "    }\n",
       "</style>\n",
       "<table border=\"1\" class=\"dataframe\">\n",
       "  <thead>\n",
       "    <tr style=\"text-align: right;\">\n",
       "      <th></th>\n",
       "      <th>0</th>\n",
       "      <th>1</th>\n",
       "      <th>2</th>\n",
       "      <th>3</th>\n",
       "      <th>4</th>\n",
       "    </tr>\n",
       "  </thead>\n",
       "  <tbody>\n",
       "    <tr>\n",
       "      <th>0</th>\n",
       "      <td>5.1</td>\n",
       "      <td>3.5</td>\n",
       "      <td>1.4</td>\n",
       "      <td>0.2</td>\n",
       "      <td>Iris-setosa</td>\n",
       "    </tr>\n",
       "    <tr>\n",
       "      <th>1</th>\n",
       "      <td>4.9</td>\n",
       "      <td>3.0</td>\n",
       "      <td>1.4</td>\n",
       "      <td>0.2</td>\n",
       "      <td>Iris-setosa</td>\n",
       "    </tr>\n",
       "    <tr>\n",
       "      <th>2</th>\n",
       "      <td>4.7</td>\n",
       "      <td>3.2</td>\n",
       "      <td>1.3</td>\n",
       "      <td>0.2</td>\n",
       "      <td>Iris-setosa</td>\n",
       "    </tr>\n",
       "    <tr>\n",
       "      <th>3</th>\n",
       "      <td>4.6</td>\n",
       "      <td>3.1</td>\n",
       "      <td>1.5</td>\n",
       "      <td>0.2</td>\n",
       "      <td>Iris-setosa</td>\n",
       "    </tr>\n",
       "    <tr>\n",
       "      <th>4</th>\n",
       "      <td>5.0</td>\n",
       "      <td>3.6</td>\n",
       "      <td>1.4</td>\n",
       "      <td>0.2</td>\n",
       "      <td>Iris-setosa</td>\n",
       "    </tr>\n",
       "    <tr>\n",
       "      <th>...</th>\n",
       "      <td>...</td>\n",
       "      <td>...</td>\n",
       "      <td>...</td>\n",
       "      <td>...</td>\n",
       "      <td>...</td>\n",
       "    </tr>\n",
       "    <tr>\n",
       "      <th>145</th>\n",
       "      <td>6.7</td>\n",
       "      <td>3.0</td>\n",
       "      <td>5.2</td>\n",
       "      <td>2.3</td>\n",
       "      <td>Iris-virginica</td>\n",
       "    </tr>\n",
       "    <tr>\n",
       "      <th>146</th>\n",
       "      <td>6.3</td>\n",
       "      <td>2.5</td>\n",
       "      <td>5.0</td>\n",
       "      <td>1.9</td>\n",
       "      <td>Iris-virginica</td>\n",
       "    </tr>\n",
       "    <tr>\n",
       "      <th>147</th>\n",
       "      <td>6.5</td>\n",
       "      <td>3.0</td>\n",
       "      <td>5.2</td>\n",
       "      <td>2.0</td>\n",
       "      <td>Iris-virginica</td>\n",
       "    </tr>\n",
       "    <tr>\n",
       "      <th>148</th>\n",
       "      <td>6.2</td>\n",
       "      <td>3.4</td>\n",
       "      <td>5.4</td>\n",
       "      <td>2.3</td>\n",
       "      <td>Iris-virginica</td>\n",
       "    </tr>\n",
       "    <tr>\n",
       "      <th>149</th>\n",
       "      <td>5.9</td>\n",
       "      <td>3.0</td>\n",
       "      <td>5.1</td>\n",
       "      <td>1.8</td>\n",
       "      <td>Iris-virginica</td>\n",
       "    </tr>\n",
       "  </tbody>\n",
       "</table>\n",
       "<p>150 rows × 5 columns</p>\n",
       "</div>"
      ],
      "text/plain": [
       "       0    1    2    3               4\n",
       "0    5.1  3.5  1.4  0.2     Iris-setosa\n",
       "1    4.9  3.0  1.4  0.2     Iris-setosa\n",
       "2    4.7  3.2  1.3  0.2     Iris-setosa\n",
       "3    4.6  3.1  1.5  0.2     Iris-setosa\n",
       "4    5.0  3.6  1.4  0.2     Iris-setosa\n",
       "..   ...  ...  ...  ...             ...\n",
       "145  6.7  3.0  5.2  2.3  Iris-virginica\n",
       "146  6.3  2.5  5.0  1.9  Iris-virginica\n",
       "147  6.5  3.0  5.2  2.0  Iris-virginica\n",
       "148  6.2  3.4  5.4  2.3  Iris-virginica\n",
       "149  5.9  3.0  5.1  1.8  Iris-virginica\n",
       "\n",
       "[150 rows x 5 columns]"
      ]
     },
     "execution_count": 5,
     "metadata": {},
     "output_type": "execute_result"
    }
   ],
   "source": [
    "import pandas as pd\n",
    "\n",
    "iris = pd.read_csv(\"iris.data\", header=None)\n",
    "iris"
   ]
  },
  {
   "cell_type": "markdown",
   "metadata": {
    "id": "ESFpa2pDU_xu"
   },
   "source": [
    "\n",
    "### Questão 03.\n",
    "\n",
    "Calcule os quatro momentos (média, variância, obliquidade e achatamento) de cada uma das quatro variáveis do conjunto. Comente os resultados encontrados\n",
    "\n",
    "  - Dica:  cada variável pode ser acessada da forma `iris[i]`, onde `i` é uma das 4 variáveis do conjunto (entre 0 e 3). Utilize as bibliotecas **numpy** para média (mean) e variância (variance) e **Scipy** para obliquidade (skew) e achatamento (kurtosis)."
   ]
  },
  {
   "cell_type": "code",
   "execution_count": 6,
   "metadata": {
    "colab": {
     "base_uri": "https://localhost:8080/",
     "height": 425
    },
    "executionInfo": {
     "elapsed": 1077,
     "status": "ok",
     "timestamp": 1589413076911,
     "user": {
      "displayName": "Gabriel Gomes",
      "photoUrl": "https://lh3.googleusercontent.com/a-/AOh14GhN3oEuh5H99-Sz7-M67KJul80OH24xRrBFw_3E=s64",
      "userId": "15453446661464234627"
     },
     "user_tz": 180
    },
    "id": "5PlJlMtJe_6r",
    "outputId": "e655a6e0-5537-4c83-e7ca-1c254a5335b3"
   },
   "outputs": [
    {
     "name": "stdout",
     "output_type": "stream",
     "text": [
      "--- Variável: 1 ---\n",
      "Média: 5.843333\n",
      "Variância: 0.681122\n",
      "Obliquidade: 0.311753\n",
      "Achatamento: -0.573568\n",
      "\n",
      "--- Variável: 2 ---\n",
      "Média: 3.054000\n",
      "Variância: 0.186751\n",
      "Obliquidade: 0.330703\n",
      "Achatamento: 0.241443\n",
      "\n",
      "--- Variável: 3 ---\n",
      "Média: 3.758667\n",
      "Variância: 3.092425\n",
      "Obliquidade: -0.271712\n",
      "Achatamento: -1.395359\n",
      "\n",
      "--- Variável: 4 ---\n",
      "Média: 1.198667\n",
      "Variância: 0.578532\n",
      "Obliquidade: -0.103944\n",
      "Achatamento: -1.335246\n",
      "\n"
     ]
    }
   ],
   "source": [
    "import numpy as np\n",
    "from scipy.stats import kurtosis, skew\n",
    "\n",
    "for i in range(0,4):\n",
    "    print(\"--- Variável: %d ---\" % (i+1))\n",
    "    print(\"Média: %f\" % np.mean(iris[i])) \n",
    "    print(\"Variância: %f\" % np.var(iris[i]))\n",
    "    print(\"Obliquidade: %f\" % skew(iris[i])) \n",
    "    print(\"Achatamento: %f\\n\" % kurtosis(iris[i]))  "
   ]
  },
  {
   "cell_type": "markdown",
   "metadata": {},
   "source": [
    "RESPOSTA:"
   ]
  },
  {
   "cell_type": "markdown",
   "metadata": {
    "id": "ULRqO72eYtBz"
   },
   "source": [
    "\n",
    "\n",
    "---\n",
    "\n",
    "### Questão 04.\n",
    "\n",
    "Calcule o histograma e o boxplot de cada uma das quatro variáveis do conjunto. Analise se os dados estão centrados (simetria) e estime qual intervalo contém 50% dos dados (intervalo entre primeiro e terceiro quartil). Comente na sua resposta.\n"
   ]
  },
  {
   "cell_type": "code",
   "execution_count": 7,
   "metadata": {
    "colab": {
     "base_uri": "https://localhost:8080/",
     "height": 832
    },
    "executionInfo": {
     "elapsed": 1546,
     "status": "ok",
     "timestamp": 1589413919005,
     "user": {
      "displayName": "Gabriel Gomes",
      "photoUrl": "https://lh3.googleusercontent.com/a-/AOh14GhN3oEuh5H99-Sz7-M67KJul80OH24xRrBFw_3E=s64",
      "userId": "15453446661464234627"
     },
     "user_tz": 180
    },
    "id": "eOgYGH7tBpE2",
    "outputId": "39fd08fd-57a3-4f06-9d41-b11e0f4bb84a"
   },
   "outputs": [
    {
     "name": "stdout",
     "output_type": "stream",
     "text": [
      "Para a variável 1:\n",
      "O intervalo que contém 50% dos dados é:\n",
      "[5.1 6.4]\n",
      "Para a variável 2:\n",
      "O intervalo que contém 50% dos dados é:\n",
      "[2.8 3.3]\n",
      "Para a variável 3:\n",
      "O intervalo que contém 50% dos dados é:\n",
      "[1.6 5.1]\n",
      "Para a variável 4:\n",
      "O intervalo que contém 50% dos dados é:\n",
      "[0.3 1.8]\n",
      "Nenhuma das variáveis apresenta simetria, porém a mais próxima de um comportamento simétricos é a variável 2.\n"
     ]
    },
    {
     "data": {
      "image/png": "[encoded data removed]",
      "text/plain": [
       "<Figure size 432x288 with 4 Axes>"
      ]
     },
     "metadata": {
      "needs_background": "light"
     },
     "output_type": "display_data"
    },
    {
     "data": {
      "image/png": "[encoded data removed]",
      "text/plain": [
       "<Figure size 432x288 with 1 Axes>"
      ]
     },
     "metadata": {
      "needs_background": "light"
     },
     "output_type": "display_data"
    }
   ],
   "source": [
    "fig, axes = plt.subplots(2, 2)\n",
    "iris[0].hist(bins = 10, ax=axes[0,0])\n",
    "iris[1].hist(bins = 10, ax=axes[0,1])\n",
    "iris[2].hist(bins = 10, ax=axes[1,0])\n",
    "iris[3].hist(bins = 10, ax=axes[1,1])\n",
    "plt.suptitle('Histogramas', x=0.5, y=1.05, ha='center', fontsize='xx-large')\n",
    "\n",
    "fig, axes = plt.subplots(1, 1)\n",
    "plt.suptitle('Boxplots', x=0.5, y=1.05, ha='center', fontsize='xx-large')\n",
    "iris.boxplot()\n",
    "\n",
    "for i in range(0,4):\n",
    "  print('Para a variável %d:'% (i+1))\n",
    "  print('O intervalo que contém 50% dos dados é:')\n",
    "  print(np.percentile(iris[i], [25,75]))\n",
    "\n",
    "\n",
    "print('Nenhuma das variáveis apresenta simetria, porém a mais próxima de um comportamento simétricos é a variável 2.')"
   ]
  },
  {
   "cell_type": "markdown",
   "metadata": {},
   "source": [
    "RESPOSTA:"
   ]
  }
 ],
 "metadata": {
  "colab": {
   "collapsed_sections": [],
   "name": "Exercicio_Exp_Dados.ipynb",
   "provenance": []
  },
  "kernelspec": {
   "display_name": "Python 3 (ipykernel)",
   "language": "python",
   "name": "python3"
  },
  "language_info": {
   "codemirror_mode": {
    "name": "ipython",
    "version": 3
   },
   "file_extension": ".py",
   "mimetype": "text/x-python",
   "name": "python",
   "nbconvert_exporter": "python",
   "pygments_lexer": "ipython3",
   "version": "3.9.7"
  }
 },
 "nbformat": 4,
 "nbformat_minor": 1
}
