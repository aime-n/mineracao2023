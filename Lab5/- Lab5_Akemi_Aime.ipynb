{
 "cells": [
  {
   "cell_type": "markdown",
   "id": "411cffe1",
   "metadata": {},
   "source": [
    "# SME0878 - MINERAÇÃO ESTATÍSTICA DE DADOS\n",
    "\n",
    "TRABALHO 5\n",
    "\n",
    "Nomes:\n",
    "Aimê Gomes da Nobrega (Nro USP 11882429) <br>\n",
    "Adriane Akemi Yamaguti (Nro USP 11915623)\n",
    "\n",
    "Professor: Jorge Luis Bazan\n",
    "\n",
    "---"
   ]
  },
  {
   "cell_type": "markdown",
   "id": "91e0d39f",
   "metadata": {},
   "source": [
    "## Importação das bibliotecas"
   ]
  },
  {
   "cell_type": "markdown",
   "id": "af5c172a",
   "metadata": {},
   "source": [
    "Primeiramente, carregamos as bibliotecas:"
   ]
  },
  {
   "cell_type": "code",
   "execution_count": 1,
   "id": "3ab1fa89",
   "metadata": {},
   "outputs": [],
   "source": [
    "# Import required libraries\n",
    "import pandas as pd\n",
    "import matplotlib.pyplot as plt\n",
    "import seaborn as sns\n",
    "from mlxtend.frequent_patterns import apriori\n",
    "from mlxtend.frequent_patterns import association_rules\n",
    "from mlxtend.preprocessing import TransactionEncoder"
   ]
  },
  {
   "cell_type": "markdown",
   "id": "c314ea4f",
   "metadata": {},
   "source": [
    "## Leitura dos dados"
   ]
  },
  {
   "cell_type": "markdown",
   "id": "889854f0",
   "metadata": {},
   "source": [
    "Realizamos a leitura dos dados de 10 clientes que fazem compras para o café entre 4 produtos disponíveis, com transações de no máximo 3 itens."
   ]
  },
  {
   "cell_type": "code",
   "execution_count": 4,
   "id": "90166922",
   "metadata": {},
   "outputs": [],
   "source": [
    "data = pd.read_csv('https://www.ufrgs.br/wiki-r/images/d/dd/Transacoes.csv', sep=',')"
   ]
  },
  {
   "cell_type": "markdown",
   "id": "0a2345b3",
   "metadata": {},
   "source": [
    "Verificamos o tamanho do dataset e as primeiras linhas:"
   ]
  },
  {
   "cell_type": "code",
   "execution_count": 8,
   "id": "39bd567f",
   "metadata": {},
   "outputs": [
    {
     "name": "stdout",
     "output_type": "stream",
     "text": [
      "O dataset possui 10 linhas e 3 colunas\n",
      "Dataset inteiro:\n"
     ]
    },
    {
     "data": {
      "text/html": [
       "<div>\n",
       "<style scoped>\n",
       "    .dataframe tbody tr th:only-of-type {\n",
       "        vertical-align: middle;\n",
       "    }\n",
       "\n",
       "    .dataframe tbody tr th {\n",
       "        vertical-align: top;\n",
       "    }\n",
       "\n",
       "    .dataframe thead th {\n",
       "        text-align: right;\n",
       "    }\n",
       "</style>\n",
       "<table border=\"1\" class=\"dataframe\">\n",
       "  <thead>\n",
       "    <tr style=\"text-align: right;\">\n",
       "      <th></th>\n",
       "      <th>Produto01</th>\n",
       "      <th>Produto02</th>\n",
       "      <th>Produto03</th>\n",
       "    </tr>\n",
       "  </thead>\n",
       "  <tbody>\n",
       "    <tr>\n",
       "      <th>0</th>\n",
       "      <td>pao</td>\n",
       "      <td>leite</td>\n",
       "      <td>NaN</td>\n",
       "    </tr>\n",
       "    <tr>\n",
       "      <th>1</th>\n",
       "      <td>pao</td>\n",
       "      <td>leite</td>\n",
       "      <td>NaN</td>\n",
       "    </tr>\n",
       "    <tr>\n",
       "      <th>2</th>\n",
       "      <td>pao</td>\n",
       "      <td>leite</td>\n",
       "      <td>NaN</td>\n",
       "    </tr>\n",
       "    <tr>\n",
       "      <th>3</th>\n",
       "      <td>pao</td>\n",
       "      <td>leite</td>\n",
       "      <td>NaN</td>\n",
       "    </tr>\n",
       "    <tr>\n",
       "      <th>4</th>\n",
       "      <td>pao</td>\n",
       "      <td>leite</td>\n",
       "      <td>NaN</td>\n",
       "    </tr>\n",
       "    <tr>\n",
       "      <th>5</th>\n",
       "      <td>pao</td>\n",
       "      <td>leite</td>\n",
       "      <td>NaN</td>\n",
       "    </tr>\n",
       "    <tr>\n",
       "      <th>6</th>\n",
       "      <td>pao</td>\n",
       "      <td>leite</td>\n",
       "      <td>NaN</td>\n",
       "    </tr>\n",
       "    <tr>\n",
       "      <th>7</th>\n",
       "      <td>pao</td>\n",
       "      <td>leite</td>\n",
       "      <td>NaN</td>\n",
       "    </tr>\n",
       "    <tr>\n",
       "      <th>8</th>\n",
       "      <td>pao</td>\n",
       "      <td>queijo</td>\n",
       "      <td>NaN</td>\n",
       "    </tr>\n",
       "    <tr>\n",
       "      <th>9</th>\n",
       "      <td>pao</td>\n",
       "      <td>queijo</td>\n",
       "      <td>salame</td>\n",
       "    </tr>\n",
       "  </tbody>\n",
       "</table>\n",
       "</div>"
      ],
      "text/plain": [
       "  Produto01 Produto02 Produto03\n",
       "0       pao     leite       NaN\n",
       "1       pao     leite       NaN\n",
       "2       pao     leite       NaN\n",
       "3       pao     leite       NaN\n",
       "4       pao     leite       NaN\n",
       "5       pao     leite       NaN\n",
       "6       pao     leite       NaN\n",
       "7       pao     leite       NaN\n",
       "8       pao    queijo       NaN\n",
       "9       pao    queijo    salame"
      ]
     },
     "execution_count": 8,
     "metadata": {},
     "output_type": "execute_result"
    }
   ],
   "source": [
    "print(f'O dataset possui {data.shape[0]} linhas e {data.shape[1]} colunas')\n",
    "print('Dataset inteiro:')\n",
    "data"
   ]
  },
  {
   "cell_type": "markdown",
   "id": "b60d0c4a",
   "metadata": {},
   "source": [
    "## Criando um modelo de associação"
   ]
  },
  {
   "cell_type": "code",
   "execution_count": 19,
   "id": "07e55101",
   "metadata": {},
   "outputs": [],
   "source": [
    "data_list = pd.read_csv('https://www.ufrgs.br/wiki-r/images/d/dd/Transacoes.csv', sep='\\t', header=None)\n",
    "# Renomeando a coluna\n",
    "data_list.rename(columns={0: 'Items'}, inplace = True)"
   ]
  },
  {
   "cell_type": "code",
   "execution_count": 20,
   "id": "9a0435b0",
   "metadata": {},
   "outputs": [
    {
     "name": "stdout",
     "output_type": "stream",
     "text": [
      "(10, 1)\n"
     ]
    },
    {
     "data": {
      "text/html": [
       "<div>\n",
       "<style scoped>\n",
       "    .dataframe tbody tr th:only-of-type {\n",
       "        vertical-align: middle;\n",
       "    }\n",
       "\n",
       "    .dataframe tbody tr th {\n",
       "        vertical-align: top;\n",
       "    }\n",
       "\n",
       "    .dataframe thead th {\n",
       "        text-align: right;\n",
       "    }\n",
       "</style>\n",
       "<table border=\"1\" class=\"dataframe\">\n",
       "  <thead>\n",
       "    <tr style=\"text-align: right;\">\n",
       "      <th></th>\n",
       "      <th>Items</th>\n",
       "    </tr>\n",
       "  </thead>\n",
       "  <tbody>\n",
       "    <tr>\n",
       "      <th>0</th>\n",
       "      <td>pao,leite</td>\n",
       "    </tr>\n",
       "    <tr>\n",
       "      <th>1</th>\n",
       "      <td>pao,leite</td>\n",
       "    </tr>\n",
       "    <tr>\n",
       "      <th>2</th>\n",
       "      <td>pao,leite</td>\n",
       "    </tr>\n",
       "    <tr>\n",
       "      <th>3</th>\n",
       "      <td>pao,leite</td>\n",
       "    </tr>\n",
       "    <tr>\n",
       "      <th>4</th>\n",
       "      <td>pao,leite</td>\n",
       "    </tr>\n",
       "  </tbody>\n",
       "</table>\n",
       "</div>"
      ],
      "text/plain": [
       "       Items\n",
       "0  pao,leite\n",
       "1  pao,leite\n",
       "2  pao,leite\n",
       "3  pao,leite\n",
       "4  pao,leite"
      ]
     },
     "execution_count": 20,
     "metadata": {},
     "output_type": "execute_result"
    }
   ],
   "source": [
    "# Removemos a primeira linha\n",
    "data_list.drop(axis=0, inplace=True, index=0)\n",
    "# Resetamos o índice\n",
    "data_list.reset_index(drop= True, inplace=True)\n",
    "# Mostramos as primeiras linhas e o tamanho do conjunto de dados\n",
    "print(data_list.shape)\n",
    "data_list.head()"
   ]
  },
  {
   "cell_type": "markdown",
   "id": "50520c7f",
   "metadata": {},
   "source": [
    "Separamos cada linha em uma lista de itens de cada consumidor por meio da função ```.split()```. Em seguida, criamos uma coluna indicando a quantidade de itens comprados e visualimos as primeiras linhas:"
   ]
  },
  {
   "cell_type": "code",
   "execution_count": 21,
   "id": "391e75f4",
   "metadata": {},
   "outputs": [
    {
     "data": {
      "text/html": [
       "<div>\n",
       "<style scoped>\n",
       "    .dataframe tbody tr th:only-of-type {\n",
       "        vertical-align: middle;\n",
       "    }\n",
       "\n",
       "    .dataframe tbody tr th {\n",
       "        vertical-align: top;\n",
       "    }\n",
       "\n",
       "    .dataframe thead th {\n",
       "        text-align: right;\n",
       "    }\n",
       "</style>\n",
       "<table border=\"1\" class=\"dataframe\">\n",
       "  <thead>\n",
       "    <tr style=\"text-align: right;\">\n",
       "      <th></th>\n",
       "      <th>Items</th>\n",
       "      <th>Items_length</th>\n",
       "    </tr>\n",
       "  </thead>\n",
       "  <tbody>\n",
       "    <tr>\n",
       "      <th>0</th>\n",
       "      <td>[pao, leite]</td>\n",
       "      <td>2</td>\n",
       "    </tr>\n",
       "    <tr>\n",
       "      <th>1</th>\n",
       "      <td>[pao, leite]</td>\n",
       "      <td>2</td>\n",
       "    </tr>\n",
       "    <tr>\n",
       "      <th>2</th>\n",
       "      <td>[pao, leite]</td>\n",
       "      <td>2</td>\n",
       "    </tr>\n",
       "    <tr>\n",
       "      <th>3</th>\n",
       "      <td>[pao, leite]</td>\n",
       "      <td>2</td>\n",
       "    </tr>\n",
       "    <tr>\n",
       "      <th>4</th>\n",
       "      <td>[pao, leite]</td>\n",
       "      <td>2</td>\n",
       "    </tr>\n",
       "    <tr>\n",
       "      <th>5</th>\n",
       "      <td>[pao, leite]</td>\n",
       "      <td>2</td>\n",
       "    </tr>\n",
       "    <tr>\n",
       "      <th>6</th>\n",
       "      <td>[pao, leite]</td>\n",
       "      <td>2</td>\n",
       "    </tr>\n",
       "    <tr>\n",
       "      <th>7</th>\n",
       "      <td>[pao, leite]</td>\n",
       "      <td>2</td>\n",
       "    </tr>\n",
       "    <tr>\n",
       "      <th>8</th>\n",
       "      <td>[pao, queijo]</td>\n",
       "      <td>2</td>\n",
       "    </tr>\n",
       "    <tr>\n",
       "      <th>9</th>\n",
       "      <td>[pao, queijo, salame]</td>\n",
       "      <td>3</td>\n",
       "    </tr>\n",
       "  </tbody>\n",
       "</table>\n",
       "</div>"
      ],
      "text/plain": [
       "                   Items  Items_length\n",
       "0           [pao, leite]             2\n",
       "1           [pao, leite]             2\n",
       "2           [pao, leite]             2\n",
       "3           [pao, leite]             2\n",
       "4           [pao, leite]             2\n",
       "5           [pao, leite]             2\n",
       "6           [pao, leite]             2\n",
       "7           [pao, leite]             2\n",
       "8          [pao, queijo]             2\n",
       "9  [pao, queijo, salame]             3"
      ]
     },
     "execution_count": 21,
     "metadata": {},
     "output_type": "execute_result"
    }
   ],
   "source": [
    "data_list['Items'] = data_list['Items'].apply(lambda row: row.split(','))\n",
    "data_list['Items_length'] = data_list['Items'].apply(len)\n",
    "data_list"
   ]
  },
  {
   "cell_type": "code",
   "execution_count": 24,
   "id": "3a2cda75",
   "metadata": {},
   "outputs": [
    {
     "data": {
      "text/plain": [
       "2    9\n",
       "3    1\n",
       "Name: Items_length, dtype: int64"
      ]
     },
     "execution_count": 24,
     "metadata": {},
     "output_type": "execute_result"
    }
   ],
   "source": [
    "data_list['Items_length'].value_counts()"
   ]
  },
  {
   "cell_type": "markdown",
   "id": "2e2c4ed3",
   "metadata": {},
   "source": [
    "Passamos a lista de compras de cada consumidor em uma única lista:"
   ]
  },
  {
   "cell_type": "code",
   "execution_count": 22,
   "id": "9c360d78",
   "metadata": {},
   "outputs": [
    {
     "data": {
      "text/plain": [
       "[['pao', 'leite'],\n",
       " ['pao', 'leite'],\n",
       " ['pao', 'leite'],\n",
       " ['pao', 'leite'],\n",
       " ['pao', 'leite'],\n",
       " ['pao', 'leite'],\n",
       " ['pao', 'leite'],\n",
       " ['pao', 'leite'],\n",
       " ['pao', 'queijo'],\n",
       " ['pao', 'queijo', 'salame']]"
      ]
     },
     "execution_count": 22,
     "metadata": {},
     "output_type": "execute_result"
    }
   ],
   "source": [
    "lista_compras = [x for x in data_list['Items']]\n",
    "lista_compras"
   ]
  },
  {
   "cell_type": "code",
   "execution_count": 30,
   "id": "4cb74a1c",
   "metadata": {},
   "outputs": [],
   "source": [
    "temp_df = data_list.explode('Items')"
   ]
  },
  {
   "cell_type": "code",
   "execution_count": 32,
   "id": "675b9951",
   "metadata": {},
   "outputs": [
    {
     "data": {
      "image/png": "[encoded data removed]",
      "text/plain": [
       "<Figure size 1080x576 with 1 Axes>"
      ]
     },
     "metadata": {
      "needs_background": "light"
     },
     "output_type": "display_data"
    }
   ],
   "source": [
    "plt.figure(figsize=(15,8))\n",
    "plt.title('Most bought product')\n",
    "plot = sns.barplot(x=temp_df['Items'].value_counts().head(10).index, y=temp_df['Items'].value_counts().head(10))\n",
    "plt.xlabel('Items')\n",
    "plt.ylabel('Occurence')\n",
    "plt.savefig('top_prod.png')"
   ]
  },
  {
   "cell_type": "code",
   "execution_count": 45,
   "id": "a701b0a2",
   "metadata": {},
   "outputs": [
    {
     "data": {
      "image/png": "[encoded data removed]",
      "text/plain": [
       "<Figure size 432x288 with 1 Axes>"
      ]
     },
     "metadata": {},
     "output_type": "display_data"
    }
   ],
   "source": [
    "import networkx as nx\n",
    "\n",
    "grafo = nx.Graph()\n",
    "\n",
    "# Adiciona todos os itens como nós do grafo\n",
    "for transaction in data_list:\n",
    "    for item in transaction:\n",
    "        grafo.add_node(item)\n",
    "\n",
    "# Conta a frequência de cada par de itens e adiciona como peso das arestas\n",
    "for transaction in data_list:\n",
    "    for i in range(len(transaction)):\n",
    "        for j in range(i+1, len(transaction)):\n",
    "            if grafo.has_edge(transaction[i], transaction[j]):\n",
    "                # Se a aresta já existe, adiciona 1 ao peso atual\n",
    "                grafo[transaction[i]][transaction[j]]['weight'] += 1\n",
    "            else:\n",
    "                # Se a aresta não existe, cria a aresta com peso 1\n",
    "                grafo.add_edge(transaction[i], transaction[j], weight=1)\n",
    "\n",
    "# Plota o grafo com os pesos das arestas\n",
    "pos = nx.spring_layout(grafo)\n",
    "weights = [grafo[u][v]['weight'] for u, v in grafo.edges()]\n",
    "nx.draw(grafo, pos, with_labels=True, width=weights)\n",
    "plt.title('Grafo de relações entre itens de compras (largura da aresta representa o peso)')\n",
    "plt.show()\n"
   ]
  },
  {
   "cell_type": "markdown",
   "id": "6cfd7364",
   "metadata": {},
   "source": [
    "Criamos uma instância de um codificador de transação (te) e passamos a variável ```lista_compras``` dentro de um array (te_ary) que transforma a lista de transações em uma matriz binária no qual cada coluna representa um item único e cada linha representa uma transação.\n",
    "\n",
    "Dessa forma, determinamos se o item está presente (True) ou ausente (False) em cada compra."
   ]
  },
  {
   "cell_type": "code",
   "execution_count": 40,
   "id": "09755261",
   "metadata": {},
   "outputs": [],
   "source": [
    "# One-hot encode data in pandas dataframe\n",
    "te = TransactionEncoder()\n",
    "te_ary = te.fit(lista_compras).transform(lista_compras)"
   ]
  },
  {
   "cell_type": "code",
   "execution_count": 41,
   "id": "8502ff41",
   "metadata": {},
   "outputs": [
    {
     "data": {
      "text/html": [
       "<div>\n",
       "<style scoped>\n",
       "    .dataframe tbody tr th:only-of-type {\n",
       "        vertical-align: middle;\n",
       "    }\n",
       "\n",
       "    .dataframe tbody tr th {\n",
       "        vertical-align: top;\n",
       "    }\n",
       "\n",
       "    .dataframe thead th {\n",
       "        text-align: right;\n",
       "    }\n",
       "</style>\n",
       "<table border=\"1\" class=\"dataframe\">\n",
       "  <thead>\n",
       "    <tr style=\"text-align: right;\">\n",
       "      <th></th>\n",
       "      <th>leite</th>\n",
       "      <th>pao</th>\n",
       "      <th>queijo</th>\n",
       "      <th>salame</th>\n",
       "    </tr>\n",
       "  </thead>\n",
       "  <tbody>\n",
       "    <tr>\n",
       "      <th>0</th>\n",
       "      <td>True</td>\n",
       "      <td>True</td>\n",
       "      <td>False</td>\n",
       "      <td>False</td>\n",
       "    </tr>\n",
       "    <tr>\n",
       "      <th>1</th>\n",
       "      <td>True</td>\n",
       "      <td>True</td>\n",
       "      <td>False</td>\n",
       "      <td>False</td>\n",
       "    </tr>\n",
       "    <tr>\n",
       "      <th>2</th>\n",
       "      <td>True</td>\n",
       "      <td>True</td>\n",
       "      <td>False</td>\n",
       "      <td>False</td>\n",
       "    </tr>\n",
       "    <tr>\n",
       "      <th>3</th>\n",
       "      <td>True</td>\n",
       "      <td>True</td>\n",
       "      <td>False</td>\n",
       "      <td>False</td>\n",
       "    </tr>\n",
       "    <tr>\n",
       "      <th>4</th>\n",
       "      <td>True</td>\n",
       "      <td>True</td>\n",
       "      <td>False</td>\n",
       "      <td>False</td>\n",
       "    </tr>\n",
       "  </tbody>\n",
       "</table>\n",
       "</div>"
      ],
      "text/plain": [
       "   leite   pao  queijo  salame\n",
       "0   True  True   False   False\n",
       "1   True  True   False   False\n",
       "2   True  True   False   False\n",
       "3   True  True   False   False\n",
       "4   True  True   False   False"
      ]
     },
     "execution_count": 41,
     "metadata": {},
     "output_type": "execute_result"
    }
   ],
   "source": [
    "# Converte o array em um dataframe\n",
    "transaction_group = pd.DataFrame(te_ary, columns=te.columns_)\n",
    "transaction_group.head()"
   ]
  },
  {
   "cell_type": "markdown",
   "id": "26f9196e",
   "metadata": {},
   "source": [
    "## Regras de associação obtidas do algoritmo Apriori"
   ]
  },
  {
   "cell_type": "markdown",
   "id": "b6c08e4f",
   "metadata": {},
   "source": [
    "Obtemos valor de suporte e os conjuntos de itens disponíveis. Note que fixamos o suporte mínimo (min_support=0.01) e os itens que forem inferior a min_support serão removidos da análise. Também definimos o comprimento máximo dos conjuntos de itens gerados (max_len = 3)."
   ]
  },
  {
   "cell_type": "code",
   "execution_count": 42,
   "id": "b64584b0",
   "metadata": {},
   "outputs": [
    {
     "data": {
      "text/html": [
       "<div>\n",
       "<style scoped>\n",
       "    .dataframe tbody tr th:only-of-type {\n",
       "        vertical-align: middle;\n",
       "    }\n",
       "\n",
       "    .dataframe tbody tr th {\n",
       "        vertical-align: top;\n",
       "    }\n",
       "\n",
       "    .dataframe thead th {\n",
       "        text-align: right;\n",
       "    }\n",
       "</style>\n",
       "<table border=\"1\" class=\"dataframe\">\n",
       "  <thead>\n",
       "    <tr style=\"text-align: right;\">\n",
       "      <th></th>\n",
       "      <th>support</th>\n",
       "      <th>itemsets</th>\n",
       "      <th>length</th>\n",
       "    </tr>\n",
       "  </thead>\n",
       "  <tbody>\n",
       "    <tr>\n",
       "      <th>0</th>\n",
       "      <td>0.8</td>\n",
       "      <td>(leite)</td>\n",
       "      <td>1</td>\n",
       "    </tr>\n",
       "    <tr>\n",
       "      <th>1</th>\n",
       "      <td>1.0</td>\n",
       "      <td>(pao)</td>\n",
       "      <td>1</td>\n",
       "    </tr>\n",
       "    <tr>\n",
       "      <th>2</th>\n",
       "      <td>0.2</td>\n",
       "      <td>(queijo)</td>\n",
       "      <td>1</td>\n",
       "    </tr>\n",
       "    <tr>\n",
       "      <th>3</th>\n",
       "      <td>0.1</td>\n",
       "      <td>(salame)</td>\n",
       "      <td>1</td>\n",
       "    </tr>\n",
       "    <tr>\n",
       "      <th>4</th>\n",
       "      <td>0.8</td>\n",
       "      <td>(pao, leite)</td>\n",
       "      <td>2</td>\n",
       "    </tr>\n",
       "    <tr>\n",
       "      <th>5</th>\n",
       "      <td>0.2</td>\n",
       "      <td>(pao, queijo)</td>\n",
       "      <td>2</td>\n",
       "    </tr>\n",
       "    <tr>\n",
       "      <th>6</th>\n",
       "      <td>0.1</td>\n",
       "      <td>(salame, pao)</td>\n",
       "      <td>2</td>\n",
       "    </tr>\n",
       "    <tr>\n",
       "      <th>7</th>\n",
       "      <td>0.1</td>\n",
       "      <td>(salame, queijo)</td>\n",
       "      <td>2</td>\n",
       "    </tr>\n",
       "    <tr>\n",
       "      <th>8</th>\n",
       "      <td>0.1</td>\n",
       "      <td>(salame, pao, queijo)</td>\n",
       "      <td>3</td>\n",
       "    </tr>\n",
       "  </tbody>\n",
       "</table>\n",
       "</div>"
      ],
      "text/plain": [
       "   support               itemsets  length\n",
       "0      0.8                (leite)       1\n",
       "1      1.0                  (pao)       1\n",
       "2      0.2               (queijo)       1\n",
       "3      0.1               (salame)       1\n",
       "4      0.8           (pao, leite)       2\n",
       "5      0.2          (pao, queijo)       2\n",
       "6      0.1          (salame, pao)       2\n",
       "7      0.1       (salame, queijo)       2\n",
       "8      0.1  (salame, pao, queijo)       3"
      ]
     },
     "execution_count": 42,
     "metadata": {},
     "output_type": "execute_result"
    }
   ],
   "source": [
    "freq_itemsets = apriori(transaction_group, min_support=0.01, use_colnames=True, max_len = 3)\n",
    "freq_itemsets['length'] = freq_itemsets['itemsets'].apply(lambda x : len(x))\n",
    "freq_itemsets"
   ]
  },
  {
   "attachments": {},
   "cell_type": "markdown",
   "id": "7f9c3fe7",
   "metadata": {},
   "source": [
    "Geramos as regras de associação a partir de um conjunto de item frequentes com o algoritmo a priori. Utilizamos a métrica  \"lift\" para medir a força da relação entre os antecedentes e consequentes."
   ]
  },
  {
   "cell_type": "code",
   "execution_count": 43,
   "id": "e37e2e0c",
   "metadata": {},
   "outputs": [],
   "source": [
    "rules = association_rules(freq_itemsets, metric=\"lift\", min_threshold = 1)"
   ]
  },
  {
   "cell_type": "markdown",
   "id": "2b1a2935",
   "metadata": {},
   "source": [
    "Por fim, criamos uma tabela com as informações resumidas as regras de associação do algoritmo apriori. são elas:\n",
    "\n",
    "- 'antecedents': itens antecedentes;\n",
    "\n",
    "- 'consequents': itens consequentes;\n",
    "\n",
    "- 'support': mede a frequência de ocorrência entre antecedents e consequents em todas as transações;\n",
    "\n",
    "- 'confidence': mede a probabilidade do item em 'consequents' apareça em uma transação, dado que o(s) item(ns) em 'antecedents' também apareça na mesma transação;\n",
    "\n",
    "- 'lift': mede a força da relação entre 'antecedents' e 'consequents', levando em consideração a frequência de ocorrência de cada item individualmente;\n",
    "\n",
    "- 'leverage': mede o desvio da ocorrência observada em relação a ocorrência esperada, assumindo que 'antecedents' e 'consequents' são independentes;\n",
    "\n",
    "- 'conviction': mede a dependência entre 'antecedents' e 'consequents', levando em consideração a frequência de ocorrência de cada item individualmente."
   ]
  },
  {
   "cell_type": "code",
   "execution_count": 44,
   "id": "ea31e098",
   "metadata": {},
   "outputs": [
    {
     "data": {
      "text/html": [
       "<div>\n",
       "<style scoped>\n",
       "    .dataframe tbody tr th:only-of-type {\n",
       "        vertical-align: middle;\n",
       "    }\n",
       "\n",
       "    .dataframe tbody tr th {\n",
       "        vertical-align: top;\n",
       "    }\n",
       "\n",
       "    .dataframe thead th {\n",
       "        text-align: right;\n",
       "    }\n",
       "</style>\n",
       "<table border=\"1\" class=\"dataframe\">\n",
       "  <thead>\n",
       "    <tr style=\"text-align: right;\">\n",
       "      <th></th>\n",
       "      <th>antecedents</th>\n",
       "      <th>consequents</th>\n",
       "      <th>support</th>\n",
       "      <th>confidence</th>\n",
       "      <th>lift</th>\n",
       "      <th>leverage</th>\n",
       "      <th>conviction</th>\n",
       "    </tr>\n",
       "  </thead>\n",
       "  <tbody>\n",
       "    <tr>\n",
       "      <th>0</th>\n",
       "      <td>(pao)</td>\n",
       "      <td>(leite)</td>\n",
       "      <td>0.8</td>\n",
       "      <td>0.8</td>\n",
       "      <td>1.0</td>\n",
       "      <td>0.00</td>\n",
       "      <td>1.0</td>\n",
       "    </tr>\n",
       "    <tr>\n",
       "      <th>1</th>\n",
       "      <td>(leite)</td>\n",
       "      <td>(pao)</td>\n",
       "      <td>0.8</td>\n",
       "      <td>1.0</td>\n",
       "      <td>1.0</td>\n",
       "      <td>0.00</td>\n",
       "      <td>inf</td>\n",
       "    </tr>\n",
       "    <tr>\n",
       "      <th>2</th>\n",
       "      <td>(pao)</td>\n",
       "      <td>(queijo)</td>\n",
       "      <td>0.2</td>\n",
       "      <td>0.2</td>\n",
       "      <td>1.0</td>\n",
       "      <td>0.00</td>\n",
       "      <td>1.0</td>\n",
       "    </tr>\n",
       "    <tr>\n",
       "      <th>3</th>\n",
       "      <td>(queijo)</td>\n",
       "      <td>(pao)</td>\n",
       "      <td>0.2</td>\n",
       "      <td>1.0</td>\n",
       "      <td>1.0</td>\n",
       "      <td>0.00</td>\n",
       "      <td>inf</td>\n",
       "    </tr>\n",
       "    <tr>\n",
       "      <th>4</th>\n",
       "      <td>(salame)</td>\n",
       "      <td>(pao)</td>\n",
       "      <td>0.1</td>\n",
       "      <td>1.0</td>\n",
       "      <td>1.0</td>\n",
       "      <td>0.00</td>\n",
       "      <td>inf</td>\n",
       "    </tr>\n",
       "    <tr>\n",
       "      <th>5</th>\n",
       "      <td>(pao)</td>\n",
       "      <td>(salame)</td>\n",
       "      <td>0.1</td>\n",
       "      <td>0.1</td>\n",
       "      <td>1.0</td>\n",
       "      <td>0.00</td>\n",
       "      <td>1.0</td>\n",
       "    </tr>\n",
       "    <tr>\n",
       "      <th>6</th>\n",
       "      <td>(salame)</td>\n",
       "      <td>(queijo)</td>\n",
       "      <td>0.1</td>\n",
       "      <td>1.0</td>\n",
       "      <td>5.0</td>\n",
       "      <td>0.08</td>\n",
       "      <td>inf</td>\n",
       "    </tr>\n",
       "    <tr>\n",
       "      <th>7</th>\n",
       "      <td>(queijo)</td>\n",
       "      <td>(salame)</td>\n",
       "      <td>0.1</td>\n",
       "      <td>0.5</td>\n",
       "      <td>5.0</td>\n",
       "      <td>0.08</td>\n",
       "      <td>1.8</td>\n",
       "    </tr>\n",
       "    <tr>\n",
       "      <th>8</th>\n",
       "      <td>(salame, pao)</td>\n",
       "      <td>(queijo)</td>\n",
       "      <td>0.1</td>\n",
       "      <td>1.0</td>\n",
       "      <td>5.0</td>\n",
       "      <td>0.08</td>\n",
       "      <td>inf</td>\n",
       "    </tr>\n",
       "    <tr>\n",
       "      <th>9</th>\n",
       "      <td>(salame, queijo)</td>\n",
       "      <td>(pao)</td>\n",
       "      <td>0.1</td>\n",
       "      <td>1.0</td>\n",
       "      <td>1.0</td>\n",
       "      <td>0.00</td>\n",
       "      <td>inf</td>\n",
       "    </tr>\n",
       "    <tr>\n",
       "      <th>10</th>\n",
       "      <td>(pao, queijo)</td>\n",
       "      <td>(salame)</td>\n",
       "      <td>0.1</td>\n",
       "      <td>0.5</td>\n",
       "      <td>5.0</td>\n",
       "      <td>0.08</td>\n",
       "      <td>1.8</td>\n",
       "    </tr>\n",
       "    <tr>\n",
       "      <th>11</th>\n",
       "      <td>(salame)</td>\n",
       "      <td>(pao, queijo)</td>\n",
       "      <td>0.1</td>\n",
       "      <td>1.0</td>\n",
       "      <td>5.0</td>\n",
       "      <td>0.08</td>\n",
       "      <td>inf</td>\n",
       "    </tr>\n",
       "    <tr>\n",
       "      <th>12</th>\n",
       "      <td>(pao)</td>\n",
       "      <td>(salame, queijo)</td>\n",
       "      <td>0.1</td>\n",
       "      <td>0.1</td>\n",
       "      <td>1.0</td>\n",
       "      <td>0.00</td>\n",
       "      <td>1.0</td>\n",
       "    </tr>\n",
       "    <tr>\n",
       "      <th>13</th>\n",
       "      <td>(queijo)</td>\n",
       "      <td>(salame, pao)</td>\n",
       "      <td>0.1</td>\n",
       "      <td>0.5</td>\n",
       "      <td>5.0</td>\n",
       "      <td>0.08</td>\n",
       "      <td>1.8</td>\n",
       "    </tr>\n",
       "  </tbody>\n",
       "</table>\n",
       "</div>"
      ],
      "text/plain": [
       "         antecedents       consequents  support  confidence  lift  leverage  \\\n",
       "0              (pao)           (leite)      0.8         0.8   1.0      0.00   \n",
       "1            (leite)             (pao)      0.8         1.0   1.0      0.00   \n",
       "2              (pao)          (queijo)      0.2         0.2   1.0      0.00   \n",
       "3           (queijo)             (pao)      0.2         1.0   1.0      0.00   \n",
       "4           (salame)             (pao)      0.1         1.0   1.0      0.00   \n",
       "5              (pao)          (salame)      0.1         0.1   1.0      0.00   \n",
       "6           (salame)          (queijo)      0.1         1.0   5.0      0.08   \n",
       "7           (queijo)          (salame)      0.1         0.5   5.0      0.08   \n",
       "8      (salame, pao)          (queijo)      0.1         1.0   5.0      0.08   \n",
       "9   (salame, queijo)             (pao)      0.1         1.0   1.0      0.00   \n",
       "10     (pao, queijo)          (salame)      0.1         0.5   5.0      0.08   \n",
       "11          (salame)     (pao, queijo)      0.1         1.0   5.0      0.08   \n",
       "12             (pao)  (salame, queijo)      0.1         0.1   1.0      0.00   \n",
       "13          (queijo)     (salame, pao)      0.1         0.5   5.0      0.08   \n",
       "\n",
       "    conviction  \n",
       "0          1.0  \n",
       "1          inf  \n",
       "2          1.0  \n",
       "3          inf  \n",
       "4          inf  \n",
       "5          1.0  \n",
       "6          inf  \n",
       "7          1.8  \n",
       "8          inf  \n",
       "9          inf  \n",
       "10         1.8  \n",
       "11         inf  \n",
       "12         1.0  \n",
       "13         1.8  "
      ]
     },
     "execution_count": 44,
     "metadata": {},
     "output_type": "execute_result"
    }
   ],
   "source": [
    "rules[['antecedents', 'consequents', 'support', 'confidence', 'lift', 'leverage', 'conviction']]"
   ]
  },
  {
   "cell_type": "markdown",
   "id": "0d461786",
   "metadata": {},
   "source": [
    "Dessa forma, temos que as pessoas que compram leite têm alta probabilidade de comprar pão. Já quem compra pão, tem mais chance de comprar leite do que salame ou salame e queijo."
   ]
  }
 ],
 "metadata": {
  "hide_input": false,
  "kernelspec": {
   "display_name": "Python 3 (ipykernel)",
   "language": "python",
   "name": "python3"
  },
  "language_info": {
   "codemirror_mode": {
    "name": "ipython",
    "version": 3
   },
   "file_extension": ".py",
   "mimetype": "text/x-python",
   "name": "python",
   "nbconvert_exporter": "python",
   "pygments_lexer": "ipython3",
   "version": "3.10.5"
  },
  "toc": {
   "base_numbering": 1,
   "nav_menu": {},
   "number_sections": true,
   "sideBar": true,
   "skip_h1_title": false,
   "title_cell": "Table of Contents",
   "title_sidebar": "Contents",
   "toc_cell": false,
   "toc_position": {},
   "toc_section_display": true,
   "toc_window_display": false
  }
 },
 "nbformat": 4,
 "nbformat_minor": 5
}
