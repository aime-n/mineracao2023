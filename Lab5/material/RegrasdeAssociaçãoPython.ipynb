{
 "cells": [
  {
   "cell_type": "markdown",
   "metadata": {},
   "source": [
    "# Regras de Associação usando Python\n",
    "## Analise Estatística de Mineraçao de Dados\n",
    "## Prof. Jorge Luis Bazán\n",
    "## Sem 2022-1"
   ]
  },
  {
   "cell_type": "markdown",
   "metadata": {},
   "source": [
    "## 1. Introdução\n",
    "\n",
    "As regras da associação são declarações se/depois que ajudam a descobrir relacionamentos entre dados não relacionados em um banco de dados. As regras de associação são usadas para encontrar as relações entre os Itens que são frequentemente usados em conjunto.\n",
    "\n",
    "Existem muitos algoritmos para gerar regras de associação, mas poucos deles estão abaixo.\n",
    "- Algoritmo Apriori\n",
    "- Algoritmo de Crescimento FP\n",
    "- ECLAT\n",
    "\n",
    "**Algoritmo Apriori**\n",
    "\n",
    "O algoritmo Apriori é uma abordagem iterativa para descobrir os conjuntos de itens mais frequentes. \n",
    "\n",
    "Apriori diz:\n",
    "\n",
    "- Se houver um item I e o Suporte (item I) < limite mínimo de suporte, então o item I não é frequente.\n",
    "- Há dois itens, ou seja, item I1 e item I2. Se o suporte (item I1+ item I2) < limite mínimo de suporte, então (item I1+ item I2) não será frequente.\n",
    "- Se um conjunto de itens tiver um valor inferior ao suporte mínimo, então todos os seus superconjuntos também cairão abaixo do suporte min, e assim podem ser ignorados. Esta propriedade é chamada de propriedade Antimonotona.\n",
    "\n",
    "Este algoritmo usa duas etapas para reduzir o espaço de pesquisa:\n",
    "\n",
    "- Junte-se ao Passo: Esta etapa gera (K+1) conjunto de itens a partir de conjuntos de itens K, juntando-se a cada item.\n",
    "- Passo da ameixa: Esta etapa verifica a contagem de cada item no banco de dados. Se o item candidato não satisfaz o requisito mínimo de suporte, então ele é considerado pouco frequente e, portanto, é removido. Esta etapa reduz o tamanho dos conjuntos de itens candidatos."
   ]
  },
  {
   "cell_type": "markdown",
   "metadata": {},
   "source": [
    "## 2.  Estudando os Dados\n",
    "O Conjunto de Dados da Cesta de Mercado de Compras (Grocery data) que apresentamos anteriormente será usado aqui. O conjunto de dados contém 9835 transações por clientes que compram mantimentos num Supermercado por um mês. \n",
    "\n",
    "Os dados contêm 169 itens diferentes.\n",
    "\n",
    "A seguir mostramos algumas características dos ítems"
   ]
  },
  {
   "cell_type": "code",
   "execution_count": 8,
   "metadata": {},
   "outputs": [],
   "source": [
    "#pip install mlxtend  "
   ]
  },
  {
   "cell_type": "code",
   "execution_count": 9,
   "metadata": {},
   "outputs": [],
   "source": [
    "# Import required libraries\n",
    "import pandas as pd\n",
    "import matplotlib.pyplot as plt\n",
    "import seaborn as sns\n",
    "from mlxtend.frequent_patterns import apriori\n",
    "from mlxtend.frequent_patterns import association_rules\n",
    "from mlxtend.preprocessing import TransactionEncoder"
   ]
  },
  {
   "cell_type": "code",
   "execution_count": 10,
   "metadata": {},
   "outputs": [],
   "source": [
    "data = pd.read_csv('groceries.csv', sep='\\t', header=None)\n"
   ]
  },
  {
   "cell_type": "code",
   "execution_count": 11,
   "metadata": {},
   "outputs": [
    {
     "data": {
      "text/plain": [
       "(9835, 1)"
      ]
     },
     "execution_count": 11,
     "metadata": {},
     "output_type": "execute_result"
    }
   ],
   "source": [
    "data.shape"
   ]
  },
  {
   "cell_type": "code",
   "execution_count": 12,
   "metadata": {},
   "outputs": [],
   "source": [
    "data.rename(columns={0: 'Items'}, inplace = True)"
   ]
  },
  {
   "cell_type": "markdown",
   "metadata": {},
   "source": [
    "Apresentamos os primeiros cinco casos (transações)"
   ]
  },
  {
   "cell_type": "code",
   "execution_count": 13,
   "metadata": {
    "scrolled": false
   },
   "outputs": [
    {
     "data": {
      "text/html": [
       "<div>\n",
       "<style scoped>\n",
       "    .dataframe tbody tr th:only-of-type {\n",
       "        vertical-align: middle;\n",
       "    }\n",
       "\n",
       "    .dataframe tbody tr th {\n",
       "        vertical-align: top;\n",
       "    }\n",
       "\n",
       "    .dataframe thead th {\n",
       "        text-align: right;\n",
       "    }\n",
       "</style>\n",
       "<table border=\"1\" class=\"dataframe\">\n",
       "  <thead>\n",
       "    <tr style=\"text-align: right;\">\n",
       "      <th></th>\n",
       "      <th>Items</th>\n",
       "    </tr>\n",
       "  </thead>\n",
       "  <tbody>\n",
       "    <tr>\n",
       "      <th>0</th>\n",
       "      <td>citrus fruit,semi-finished bread,margarine,rea...</td>\n",
       "    </tr>\n",
       "    <tr>\n",
       "      <th>1</th>\n",
       "      <td>tropical fruit,yogurt,coffee</td>\n",
       "    </tr>\n",
       "    <tr>\n",
       "      <th>2</th>\n",
       "      <td>whole milk</td>\n",
       "    </tr>\n",
       "    <tr>\n",
       "      <th>3</th>\n",
       "      <td>pip fruit,yogurt,cream cheese,meat spreads</td>\n",
       "    </tr>\n",
       "    <tr>\n",
       "      <th>4</th>\n",
       "      <td>other vegetables,whole milk,condensed milk,lon...</td>\n",
       "    </tr>\n",
       "  </tbody>\n",
       "</table>\n",
       "</div>"
      ],
      "text/plain": [
       "                                               Items\n",
       "0  citrus fruit,semi-finished bread,margarine,rea...\n",
       "1                       tropical fruit,yogurt,coffee\n",
       "2                                         whole milk\n",
       "3         pip fruit,yogurt,cream cheese,meat spreads\n",
       "4  other vegetables,whole milk,condensed milk,lon..."
      ]
     },
     "execution_count": 13,
     "metadata": {},
     "output_type": "execute_result"
    }
   ],
   "source": [
    "data.head()"
   ]
  },
  {
   "cell_type": "markdown",
   "metadata": {},
   "source": [
    "Agora pesquisaremos de que tipo são os dados usando"
   ]
  },
  {
   "cell_type": "code",
   "execution_count": 14,
   "metadata": {},
   "outputs": [
    {
     "data": {
      "text/plain": [
       "str"
      ]
     },
     "execution_count": 14,
     "metadata": {},
     "output_type": "execute_result"
    }
   ],
   "source": [
    "type(data['Items'][0])"
   ]
  },
  {
   "cell_type": "markdown",
   "metadata": {},
   "source": [
    "Uma vez que o tipo de dados é uma string (sequência). Então dividimos os dados por \",\" e, em seguida, convertimos os dados para uma lista para seu uso posterior. Podemos obter a frequência dos itens a partir da segunda linha de código."
   ]
  },
  {
   "cell_type": "code",
   "execution_count": 15,
   "metadata": {},
   "outputs": [],
   "source": [
    "data['Items'] = data['Items'].apply(lambda row: row.split(','))"
   ]
  },
  {
   "cell_type": "code",
   "execution_count": 16,
   "metadata": {},
   "outputs": [],
   "source": [
    "data['Items_length'] = data['Items'].apply(len)"
   ]
  },
  {
   "cell_type": "code",
   "execution_count": 17,
   "metadata": {
    "scrolled": false
   },
   "outputs": [
    {
     "data": {
      "text/plain": [
       "1     2159\n",
       "2     1643\n",
       "3     1299\n",
       "4     1005\n",
       "5      855\n",
       "6      645\n",
       "7      545\n",
       "8      438\n",
       "9      350\n",
       "10     246\n",
       "11     182\n",
       "12     117\n",
       "13      78\n",
       "14      77\n",
       "15      55\n",
       "16      46\n",
       "17      29\n",
       "19      14\n",
       "18      14\n",
       "21      11\n",
       "20       9\n",
       "23       6\n",
       "22       4\n",
       "29       3\n",
       "26       1\n",
       "28       1\n",
       "32       1\n",
       "24       1\n",
       "27       1\n",
       "Name: Items_length, dtype: int64"
      ]
     },
     "execution_count": 17,
     "metadata": {},
     "output_type": "execute_result"
    }
   ],
   "source": [
    "data['Items_length'].value_counts()"
   ]
  },
  {
   "cell_type": "markdown",
   "metadata": {},
   "source": [
    "Mostramos a seguir a frequência de algumas transações"
   ]
  },
  {
   "cell_type": "code",
   "execution_count": 19,
   "metadata": {},
   "outputs": [
    {
     "data": {
      "text/html": [
       "<div>\n",
       "<style scoped>\n",
       "    .dataframe tbody tr th:only-of-type {\n",
       "        vertical-align: middle;\n",
       "    }\n",
       "\n",
       "    .dataframe tbody tr th {\n",
       "        vertical-align: top;\n",
       "    }\n",
       "\n",
       "    .dataframe thead th {\n",
       "        text-align: right;\n",
       "    }\n",
       "</style>\n",
       "<table border=\"1\" class=\"dataframe\">\n",
       "  <thead>\n",
       "    <tr style=\"text-align: right;\">\n",
       "      <th></th>\n",
       "      <th>Items</th>\n",
       "      <th>Items_length</th>\n",
       "    </tr>\n",
       "  </thead>\n",
       "  <tbody>\n",
       "    <tr>\n",
       "      <th>0</th>\n",
       "      <td>[citrus fruit, semi-finished bread, margarine,...</td>\n",
       "      <td>4</td>\n",
       "    </tr>\n",
       "    <tr>\n",
       "      <th>1</th>\n",
       "      <td>[tropical fruit, yogurt, coffee]</td>\n",
       "      <td>3</td>\n",
       "    </tr>\n",
       "    <tr>\n",
       "      <th>2</th>\n",
       "      <td>[whole milk]</td>\n",
       "      <td>1</td>\n",
       "    </tr>\n",
       "    <tr>\n",
       "      <th>3</th>\n",
       "      <td>[pip fruit, yogurt, cream cheese, meat spreads]</td>\n",
       "      <td>4</td>\n",
       "    </tr>\n",
       "    <tr>\n",
       "      <th>4</th>\n",
       "      <td>[other vegetables, whole milk, condensed milk,...</td>\n",
       "      <td>4</td>\n",
       "    </tr>\n",
       "  </tbody>\n",
       "</table>\n",
       "</div>"
      ],
      "text/plain": [
       "                                               Items  Items_length\n",
       "0  [citrus fruit, semi-finished bread, margarine,...             4\n",
       "1                   [tropical fruit, yogurt, coffee]             3\n",
       "2                                       [whole milk]             1\n",
       "3    [pip fruit, yogurt, cream cheese, meat spreads]             4\n",
       "4  [other vegetables, whole milk, condensed milk,...             4"
      ]
     },
     "execution_count": 19,
     "metadata": {},
     "output_type": "execute_result"
    }
   ],
   "source": [
    "data.head()"
   ]
  },
  {
   "cell_type": "code",
   "execution_count": 20,
   "metadata": {},
   "outputs": [
    {
     "data": {
      "text/plain": [
       "['citrus fruit', 'semi-finished bread', 'margarine', 'ready soups']"
      ]
     },
     "execution_count": 20,
     "metadata": {},
     "output_type": "execute_result"
    }
   ],
   "source": [
    "data['Items'][0]"
   ]
  },
  {
   "cell_type": "markdown",
   "metadata": {},
   "source": [
    "Os dados filtrados a segui contêm todas as linhas do dataframe que tem um comprimento maior ou igual a 2. Neste caso temos 7676 transações"
   ]
  },
  {
   "cell_type": "code",
   "execution_count": 21,
   "metadata": {},
   "outputs": [],
   "source": [
    "filter_data = [x for x in data['Items'] if len(x)>=2]"
   ]
  },
  {
   "cell_type": "code",
   "execution_count": 22,
   "metadata": {
    "scrolled": true
   },
   "outputs": [
    {
     "data": {
      "text/plain": [
       "7676"
      ]
     },
     "execution_count": 22,
     "metadata": {},
     "output_type": "execute_result"
    }
   ],
   "source": [
    "len(filter_data)"
   ]
  },
  {
   "cell_type": "markdown",
   "metadata": {},
   "source": [
    "A seguir calculamos as frequências de diferentes items, mostrando aqueles que foram requeridos mais frequentemente"
   ]
  },
  {
   "cell_type": "code",
   "execution_count": 23,
   "metadata": {},
   "outputs": [],
   "source": [
    "data.drop(['Items_length'], inplace = True, axis =1 )"
   ]
  },
  {
   "cell_type": "code",
   "execution_count": 24,
   "metadata": {},
   "outputs": [],
   "source": [
    "temp_df = data.explode('Items')"
   ]
  },
  {
   "cell_type": "code",
   "execution_count": 25,
   "metadata": {
    "scrolled": false
   },
   "outputs": [
    {
     "data": {
      "text/plain": [
       "whole milk               2513\n",
       "other vegetables         1903\n",
       "rolls/buns               1809\n",
       "soda                     1715\n",
       "yogurt                   1372\n",
       "                         ... \n",
       "bags                        4\n",
       "kitchen utensil             4\n",
       "preservation products       2\n",
       "sound storage medium        1\n",
       "baby food                   1\n",
       "Name: Items, Length: 169, dtype: int64"
      ]
     },
     "execution_count": 25,
     "metadata": {},
     "output_type": "execute_result"
    }
   ],
   "source": [
    "temp_df['Items'].value_counts()"
   ]
  },
  {
   "cell_type": "markdown",
   "metadata": {},
   "source": [
    "A seguir mostramos os 15 items ou produtos mais comprados "
   ]
  },
  {
   "cell_type": "code",
   "execution_count": 26,
   "metadata": {},
   "outputs": [
    {
     "data": {
      "image/png": "[encoded data removed]",
      "text/plain": [
       "<Figure size 1080x576 with 1 Axes>"
      ]
     },
     "metadata": {
      "needs_background": "light"
     },
     "output_type": "display_data"
    }
   ],
   "source": [
    "plt.figure(figsize=(15,8))\n",
    "plt.title('Top 15 most bought product')\n",
    "plot = sns.barplot(x=temp_df['Items'].value_counts().head(10).index, y=temp_df['Items'].value_counts().head(10))\n",
    "plt.xlabel('Items')\n",
    "plt.ylabel('Occurence')\n",
    "plt.savefig('top_15_prod.png')"
   ]
  },
  {
   "cell_type": "markdown",
   "metadata": {},
   "source": [
    "Também podemos mostrar os produtos ou items comprados mais raramente"
   ]
  },
  {
   "cell_type": "code",
   "execution_count": 27,
   "metadata": {},
   "outputs": [
    {
     "data": {
      "text/plain": [
       "<AxesSubplot:title={'center':'Rared bought products'}, ylabel='Items'>"
      ]
     },
     "execution_count": 27,
     "metadata": {},
     "output_type": "execute_result"
    },
    {
     "data": {
      "image/png": "[encoded data removed]",
      "text/plain": [
       "<Figure size 1080x576 with 1 Axes>"
      ]
     },
     "metadata": {
      "needs_background": "light"
     },
     "output_type": "display_data"
    }
   ],
   "source": [
    "plt.figure(figsize=(15,8))\n",
    "plt.title('Rared bought products')\n",
    "sns.barplot(x=temp_df['Items'].value_counts().tail(10).index, y=temp_df['Items'].value_counts().tail(10))"
   ]
  },
  {
   "cell_type": "markdown",
   "metadata": {},
   "source": [
    "A seguir usaremos o método transactionEncoder o qual codifica dados na forma de lista python em uma matriz numpy. Depois, iremos a colocaresses dados em um dataframe para referência futura."
   ]
  },
  {
   "cell_type": "code",
   "execution_count": 28,
   "metadata": {},
   "outputs": [],
   "source": [
    "# One-hot encode data in pandas dataframe\n",
    "te = TransactionEncoder()\n",
    "te_ary = te.fit(filter_data).transform(filter_data)"
   ]
  },
  {
   "cell_type": "markdown",
   "metadata": {},
   "source": [
    "Agora mostraremos como fica a matriz de zeros (False) e Uns (True) para as primeiras cinco transações"
   ]
  },
  {
   "cell_type": "code",
   "execution_count": 29,
   "metadata": {
    "scrolled": false
   },
   "outputs": [
    {
     "data": {
      "text/html": [
       "<div>\n",
       "<style scoped>\n",
       "    .dataframe tbody tr th:only-of-type {\n",
       "        vertical-align: middle;\n",
       "    }\n",
       "\n",
       "    .dataframe tbody tr th {\n",
       "        vertical-align: top;\n",
       "    }\n",
       "\n",
       "    .dataframe thead th {\n",
       "        text-align: right;\n",
       "    }\n",
       "</style>\n",
       "<table border=\"1\" class=\"dataframe\">\n",
       "  <thead>\n",
       "    <tr style=\"text-align: right;\">\n",
       "      <th></th>\n",
       "      <th>Instant food products</th>\n",
       "      <th>UHT-milk</th>\n",
       "      <th>abrasive cleaner</th>\n",
       "      <th>artif. sweetener</th>\n",
       "      <th>baby cosmetics</th>\n",
       "      <th>baby food</th>\n",
       "      <th>bags</th>\n",
       "      <th>baking powder</th>\n",
       "      <th>bathroom cleaner</th>\n",
       "      <th>beef</th>\n",
       "      <th>...</th>\n",
       "      <th>turkey</th>\n",
       "      <th>vinegar</th>\n",
       "      <th>waffles</th>\n",
       "      <th>whipped/sour cream</th>\n",
       "      <th>whisky</th>\n",
       "      <th>white bread</th>\n",
       "      <th>white wine</th>\n",
       "      <th>whole milk</th>\n",
       "      <th>yogurt</th>\n",
       "      <th>zwieback</th>\n",
       "    </tr>\n",
       "  </thead>\n",
       "  <tbody>\n",
       "    <tr>\n",
       "      <th>0</th>\n",
       "      <td>False</td>\n",
       "      <td>False</td>\n",
       "      <td>False</td>\n",
       "      <td>False</td>\n",
       "      <td>False</td>\n",
       "      <td>False</td>\n",
       "      <td>False</td>\n",
       "      <td>False</td>\n",
       "      <td>False</td>\n",
       "      <td>False</td>\n",
       "      <td>...</td>\n",
       "      <td>False</td>\n",
       "      <td>False</td>\n",
       "      <td>False</td>\n",
       "      <td>False</td>\n",
       "      <td>False</td>\n",
       "      <td>False</td>\n",
       "      <td>False</td>\n",
       "      <td>False</td>\n",
       "      <td>False</td>\n",
       "      <td>False</td>\n",
       "    </tr>\n",
       "    <tr>\n",
       "      <th>1</th>\n",
       "      <td>False</td>\n",
       "      <td>False</td>\n",
       "      <td>False</td>\n",
       "      <td>False</td>\n",
       "      <td>False</td>\n",
       "      <td>False</td>\n",
       "      <td>False</td>\n",
       "      <td>False</td>\n",
       "      <td>False</td>\n",
       "      <td>False</td>\n",
       "      <td>...</td>\n",
       "      <td>False</td>\n",
       "      <td>False</td>\n",
       "      <td>False</td>\n",
       "      <td>False</td>\n",
       "      <td>False</td>\n",
       "      <td>False</td>\n",
       "      <td>False</td>\n",
       "      <td>False</td>\n",
       "      <td>True</td>\n",
       "      <td>False</td>\n",
       "    </tr>\n",
       "    <tr>\n",
       "      <th>2</th>\n",
       "      <td>False</td>\n",
       "      <td>False</td>\n",
       "      <td>False</td>\n",
       "      <td>False</td>\n",
       "      <td>False</td>\n",
       "      <td>False</td>\n",
       "      <td>False</td>\n",
       "      <td>False</td>\n",
       "      <td>False</td>\n",
       "      <td>False</td>\n",
       "      <td>...</td>\n",
       "      <td>False</td>\n",
       "      <td>False</td>\n",
       "      <td>False</td>\n",
       "      <td>False</td>\n",
       "      <td>False</td>\n",
       "      <td>False</td>\n",
       "      <td>False</td>\n",
       "      <td>False</td>\n",
       "      <td>True</td>\n",
       "      <td>False</td>\n",
       "    </tr>\n",
       "    <tr>\n",
       "      <th>3</th>\n",
       "      <td>False</td>\n",
       "      <td>False</td>\n",
       "      <td>False</td>\n",
       "      <td>False</td>\n",
       "      <td>False</td>\n",
       "      <td>False</td>\n",
       "      <td>False</td>\n",
       "      <td>False</td>\n",
       "      <td>False</td>\n",
       "      <td>False</td>\n",
       "      <td>...</td>\n",
       "      <td>False</td>\n",
       "      <td>False</td>\n",
       "      <td>False</td>\n",
       "      <td>False</td>\n",
       "      <td>False</td>\n",
       "      <td>False</td>\n",
       "      <td>False</td>\n",
       "      <td>True</td>\n",
       "      <td>False</td>\n",
       "      <td>False</td>\n",
       "    </tr>\n",
       "    <tr>\n",
       "      <th>4</th>\n",
       "      <td>False</td>\n",
       "      <td>False</td>\n",
       "      <td>True</td>\n",
       "      <td>False</td>\n",
       "      <td>False</td>\n",
       "      <td>False</td>\n",
       "      <td>False</td>\n",
       "      <td>False</td>\n",
       "      <td>False</td>\n",
       "      <td>False</td>\n",
       "      <td>...</td>\n",
       "      <td>False</td>\n",
       "      <td>False</td>\n",
       "      <td>False</td>\n",
       "      <td>False</td>\n",
       "      <td>False</td>\n",
       "      <td>False</td>\n",
       "      <td>False</td>\n",
       "      <td>True</td>\n",
       "      <td>True</td>\n",
       "      <td>False</td>\n",
       "    </tr>\n",
       "  </tbody>\n",
       "</table>\n",
       "<p>5 rows × 169 columns</p>\n",
       "</div>"
      ],
      "text/plain": [
       "   Instant food products  UHT-milk  abrasive cleaner  artif. sweetener  \\\n",
       "0                  False     False             False             False   \n",
       "1                  False     False             False             False   \n",
       "2                  False     False             False             False   \n",
       "3                  False     False             False             False   \n",
       "4                  False     False              True             False   \n",
       "\n",
       "   baby cosmetics  baby food   bags  baking powder  bathroom cleaner   beef  \\\n",
       "0           False      False  False          False             False  False   \n",
       "1           False      False  False          False             False  False   \n",
       "2           False      False  False          False             False  False   \n",
       "3           False      False  False          False             False  False   \n",
       "4           False      False  False          False             False  False   \n",
       "\n",
       "   ...  turkey  vinegar  waffles  whipped/sour cream  whisky  white bread  \\\n",
       "0  ...   False    False    False               False   False        False   \n",
       "1  ...   False    False    False               False   False        False   \n",
       "2  ...   False    False    False               False   False        False   \n",
       "3  ...   False    False    False               False   False        False   \n",
       "4  ...   False    False    False               False   False        False   \n",
       "\n",
       "   white wine  whole milk  yogurt  zwieback  \n",
       "0       False       False   False     False  \n",
       "1       False       False    True     False  \n",
       "2       False       False    True     False  \n",
       "3       False        True   False     False  \n",
       "4       False        True    True     False  \n",
       "\n",
       "[5 rows x 169 columns]"
      ]
     },
     "execution_count": 29,
     "metadata": {},
     "output_type": "execute_result"
    }
   ],
   "source": [
    "transaction_group = pd.DataFrame(te_ary, columns=te.columns_)\n",
    "transaction_group.head()"
   ]
  },
  {
   "cell_type": "markdown",
   "metadata": {},
   "source": [
    "## 3. Criando Regras de Associação usando o algoritmo Apriori\n",
    "\n",
    "A seguir usaremos o algoritmo Apriori para criar as regras de associação nos dados analisados\n",
    "\n",
    "Agora passamos o dataframe recém-formado (ou seja, transaction_group ou matriz de transações) para a função apriori. A partir daí, obtere valor de suporte e os nomes das colunas para os conjuntos de itens. \n",
    "\n",
    "A função apriori espera dados em um DataFrame pandas codificado do tipo one-hot, de modo que os dados de transação (ou seja, transaction_group) passaram como parâmetro. \n",
    "\n",
    "Nos precisamos fixar um valor mínimo de suporte que é usado para filtrar os dados acima desse valor. No código este valor é 0.01 (min_support=0.01). Se o suporte mínimo de itens definidos pelo candidato for inferior a min_support, então os itens serão removidos. A especificação (use_colnames=True) usa os nomes das colunas do dataframe no DataFrame obtido em vez de índices de coluna. Finalmente, (max_len=2) especifica o comprimento máximo dos conjuntos de itens gerados."
   ]
  },
  {
   "cell_type": "code",
   "execution_count": 30,
   "metadata": {},
   "outputs": [],
   "source": [
    "freq_itemsets = apriori(transaction_group, min_support=0.01, use_colnames=True, max_len = 2)\n",
    "freq_itemsets['length'] = freq_itemsets['itemsets'].apply(lambda x : len(x))"
   ]
  },
  {
   "cell_type": "code",
   "execution_count": 31,
   "metadata": {},
   "outputs": [
    {
     "data": {
      "text/html": [
       "<div>\n",
       "<style scoped>\n",
       "    .dataframe tbody tr th:only-of-type {\n",
       "        vertical-align: middle;\n",
       "    }\n",
       "\n",
       "    .dataframe tbody tr th {\n",
       "        vertical-align: top;\n",
       "    }\n",
       "\n",
       "    .dataframe thead th {\n",
       "        text-align: right;\n",
       "    }\n",
       "</style>\n",
       "<table border=\"1\" class=\"dataframe\">\n",
       "  <thead>\n",
       "    <tr style=\"text-align: right;\">\n",
       "      <th></th>\n",
       "      <th>support</th>\n",
       "      <th>itemsets</th>\n",
       "      <th>length</th>\n",
       "    </tr>\n",
       "  </thead>\n",
       "  <tbody>\n",
       "    <tr>\n",
       "      <th>0</th>\n",
       "      <td>0.041558</td>\n",
       "      <td>(UHT-milk)</td>\n",
       "      <td>1</td>\n",
       "    </tr>\n",
       "    <tr>\n",
       "      <th>1</th>\n",
       "      <td>0.022277</td>\n",
       "      <td>(baking powder)</td>\n",
       "      <td>1</td>\n",
       "    </tr>\n",
       "    <tr>\n",
       "      <th>2</th>\n",
       "      <td>0.063835</td>\n",
       "      <td>(beef)</td>\n",
       "      <td>1</td>\n",
       "    </tr>\n",
       "    <tr>\n",
       "      <th>3</th>\n",
       "      <td>0.041298</td>\n",
       "      <td>(berries)</td>\n",
       "      <td>1</td>\n",
       "    </tr>\n",
       "    <tr>\n",
       "      <th>4</th>\n",
       "      <td>0.029964</td>\n",
       "      <td>(beverages)</td>\n",
       "      <td>1</td>\n",
       "    </tr>\n",
       "    <tr>\n",
       "      <th>...</th>\n",
       "      <td>...</td>\n",
       "      <td>...</td>\n",
       "      <td>...</td>\n",
       "    </tr>\n",
       "    <tr>\n",
       "      <th>410</th>\n",
       "      <td>0.041298</td>\n",
       "      <td>(whole milk, whipped/sour cream)</td>\n",
       "      <td>2</td>\n",
       "    </tr>\n",
       "    <tr>\n",
       "      <th>411</th>\n",
       "      <td>0.026576</td>\n",
       "      <td>(yogurt, whipped/sour cream)</td>\n",
       "      <td>2</td>\n",
       "    </tr>\n",
       "    <tr>\n",
       "      <th>412</th>\n",
       "      <td>0.021886</td>\n",
       "      <td>(whole milk, white bread)</td>\n",
       "      <td>2</td>\n",
       "    </tr>\n",
       "    <tr>\n",
       "      <th>413</th>\n",
       "      <td>0.011595</td>\n",
       "      <td>(white bread, yogurt)</td>\n",
       "      <td>2</td>\n",
       "    </tr>\n",
       "    <tr>\n",
       "      <th>414</th>\n",
       "      <td>0.071782</td>\n",
       "      <td>(whole milk, yogurt)</td>\n",
       "      <td>2</td>\n",
       "    </tr>\n",
       "  </tbody>\n",
       "</table>\n",
       "<p>415 rows × 3 columns</p>\n",
       "</div>"
      ],
      "text/plain": [
       "      support                          itemsets  length\n",
       "0    0.041558                        (UHT-milk)       1\n",
       "1    0.022277                   (baking powder)       1\n",
       "2    0.063835                            (beef)       1\n",
       "3    0.041298                         (berries)       1\n",
       "4    0.029964                       (beverages)       1\n",
       "..        ...                               ...     ...\n",
       "410  0.041298  (whole milk, whipped/sour cream)       2\n",
       "411  0.026576      (yogurt, whipped/sour cream)       2\n",
       "412  0.021886         (whole milk, white bread)       2\n",
       "413  0.011595             (white bread, yogurt)       2\n",
       "414  0.071782              (whole milk, yogurt)       2\n",
       "\n",
       "[415 rows x 3 columns]"
      ]
     },
     "execution_count": 31,
     "metadata": {},
     "output_type": "execute_result"
    }
   ],
   "source": [
    "freq_itemsets"
   ]
  },
  {
   "cell_type": "markdown",
   "metadata": {},
   "source": [
    "\n",
    "Finalmente, o último passo é criar as regras de associação. \n",
    "Podemos obtê-las usando a função de regras de associação que toma como entrada os seguintes parâmetros.\n",
    "\n",
    "- freq_itemsets os quais foram dados da etapa anterior\n",
    "- metric (métrica) em que as regras devem ser feitas como soporte, confiança, elevação (lift) já comentadas anteriormente em nosso código R. No caso estamos usando elevação.\n",
    "- min (Valor mínimo) da elevação que será considerado.\n"
   ]
  },
  {
   "cell_type": "code",
   "execution_count": 32,
   "metadata": {},
   "outputs": [],
   "source": [
    "rules = association_rules(freq_itemsets, metric=\"lift\", min_threshold = 1)"
   ]
  },
  {
   "cell_type": "markdown",
   "metadata": {},
   "source": [
    "A linha de código acima pode ser interpretada como definir regras usando a métrica de elevação que tem um valor mínimo de 1. As coisas ficarão mais claras a partir da saída anexada abaixo."
   ]
  },
  {
   "cell_type": "code",
   "execution_count": 33,
   "metadata": {
    "scrolled": false
   },
   "outputs": [
    {
     "data": {
      "text/html": [
       "<div>\n",
       "<style scoped>\n",
       "    .dataframe tbody tr th:only-of-type {\n",
       "        vertical-align: middle;\n",
       "    }\n",
       "\n",
       "    .dataframe tbody tr th {\n",
       "        vertical-align: top;\n",
       "    }\n",
       "\n",
       "    .dataframe thead th {\n",
       "        text-align: right;\n",
       "    }\n",
       "</style>\n",
       "<table border=\"1\" class=\"dataframe\">\n",
       "  <thead>\n",
       "    <tr style=\"text-align: right;\">\n",
       "      <th></th>\n",
       "      <th>antecedents</th>\n",
       "      <th>consequents</th>\n",
       "      <th>support</th>\n",
       "      <th>confidence</th>\n",
       "      <th>lift</th>\n",
       "      <th>leverage</th>\n",
       "      <th>conviction</th>\n",
       "    </tr>\n",
       "  </thead>\n",
       "  <tbody>\n",
       "    <tr>\n",
       "      <th>0</th>\n",
       "      <td>(UHT-milk)</td>\n",
       "      <td>(other vegetables)</td>\n",
       "      <td>0.010422</td>\n",
       "      <td>0.250784</td>\n",
       "      <td>1.045636</td>\n",
       "      <td>0.000455</td>\n",
       "      <td>1.014609</td>\n",
       "    </tr>\n",
       "    <tr>\n",
       "      <th>1</th>\n",
       "      <td>(other vegetables)</td>\n",
       "      <td>(UHT-milk)</td>\n",
       "      <td>0.010422</td>\n",
       "      <td>0.043455</td>\n",
       "      <td>1.045636</td>\n",
       "      <td>0.000455</td>\n",
       "      <td>1.001983</td>\n",
       "    </tr>\n",
       "    <tr>\n",
       "      <th>2</th>\n",
       "      <td>(whole milk)</td>\n",
       "      <td>(baking powder)</td>\n",
       "      <td>0.011855</td>\n",
       "      <td>0.038043</td>\n",
       "      <td>1.707729</td>\n",
       "      <td>0.004913</td>\n",
       "      <td>1.016390</td>\n",
       "    </tr>\n",
       "    <tr>\n",
       "      <th>3</th>\n",
       "      <td>(baking powder)</td>\n",
       "      <td>(whole milk)</td>\n",
       "      <td>0.011855</td>\n",
       "      <td>0.532164</td>\n",
       "      <td>1.707729</td>\n",
       "      <td>0.004913</td>\n",
       "      <td>1.471411</td>\n",
       "    </tr>\n",
       "    <tr>\n",
       "      <th>4</th>\n",
       "      <td>(beef)</td>\n",
       "      <td>(citrus fruit)</td>\n",
       "      <td>0.010813</td>\n",
       "      <td>0.169388</td>\n",
       "      <td>1.629349</td>\n",
       "      <td>0.004177</td>\n",
       "      <td>1.078770</td>\n",
       "    </tr>\n",
       "  </tbody>\n",
       "</table>\n",
       "</div>"
      ],
      "text/plain": [
       "          antecedents         consequents   support  confidence      lift  \\\n",
       "0          (UHT-milk)  (other vegetables)  0.010422    0.250784  1.045636   \n",
       "1  (other vegetables)          (UHT-milk)  0.010422    0.043455  1.045636   \n",
       "2        (whole milk)     (baking powder)  0.011855    0.038043  1.707729   \n",
       "3     (baking powder)        (whole milk)  0.011855    0.532164  1.707729   \n",
       "4              (beef)      (citrus fruit)  0.010813    0.169388  1.629349   \n",
       "\n",
       "   leverage  conviction  \n",
       "0  0.000455    1.014609  \n",
       "1  0.000455    1.001983  \n",
       "2  0.004913    1.016390  \n",
       "3  0.004913    1.471411  \n",
       "4  0.004177    1.078770  "
      ]
     },
     "execution_count": 33,
     "metadata": {},
     "output_type": "execute_result"
    }
   ],
   "source": [
    "rules[['antecedents', 'consequents', 'support', 'confidence', 'lift', 'leverage', 'conviction']].head()"
   ]
  },
  {
   "cell_type": "markdown",
   "metadata": {},
   "source": [
    "Nesta saida temos os seguintes componentes\n",
    "- Antecedente não é nada além de item sendo comprado. \n",
    "\n",
    "- Consequência não é nada além dos outros itens que são frequentemente comprados na mesma transação.\n",
    "\n",
    "- O suporte mostra com que frequência o conjunto de itens aparece no conjunto de dados.\n",
    "\n",
    "- Confiança explica a probabilidade de o item Y ser comprado quando o item X é comprado. \n",
    "\n",
    "- O elevador é um indicador de força relativa que mostra a associação entre 2 itens.\n",
    "\n",
    "- A alavancagem tende a priorizar itens com maior suporte no conjunto de dados.\n",
    "\n",
    "- A condenação mede o erro de regra esperado, ou seja, com que frequência o item X ocorre em uma transação onde o item Y não ocorre.\n",
    "\n",
    "É assim que com a ajuda de métodos do pacote mlxtend pacote, o algoritmo apriori foi implementado em python. "
   ]
  },
  {
   "cell_type": "markdown",
   "metadata": {},
   "source": [
    "## Referencias\n",
    "\n",
    "- Kuldeep Patle. The implementation of the Apriori algorithm in python using mlxtend library. https://github.com/kuldeeppatle21/MarketBasketAnalysis\n",
    " "
   ]
  }
 ],
 "metadata": {
  "kernelspec": {
   "display_name": "Python 3",
   "language": "python",
   "name": "python3"
  },
  "language_info": {
   "codemirror_mode": {
    "name": "ipython",
    "version": 3
   },
   "file_extension": ".py",
   "mimetype": "text/x-python",
   "name": "python",
   "nbconvert_exporter": "python",
   "pygments_lexer": "ipython3",
   "version": "3.10.5"
  }
 },
 "nbformat": 4,
 "nbformat_minor": 4
}
